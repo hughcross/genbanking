{
 "cells": [
  {
   "cell_type": "markdown",
   "metadata": {},
   "source": [
    "## Creating a script to parse blast files of custom or standard tabular format"
   ]
  },
  {
   "cell_type": "markdown",
   "metadata": {},
   "source": [
    "**Started with standard function to parse blast files of set format**"
   ]
  },
  {
   "cell_type": "code",
   "execution_count": 68,
   "metadata": {
    "collapsed": false
   },
   "outputs": [],
   "source": [
    "# function for parsing blast file\n",
    "def old_blast_parser(blastfile, tab=None):\n",
    "    \"\"\"parse tabular blast files to retrieve all information for downstream\"\"\"\n",
    "    blast = open(blastfile)\n",
    "    if tab is None: #'standard': # alternative add later\n",
    "        std = {'qseqid':0, 'sseqid':1, 'pident':2, 'length':3, 'mismatch':4, 'gapopen':5,'qstart':6, 'qend':7, 'sstart':8, 'send':9, 'evalue':10, 'bitscore':11}\n",
    "        fmt_list = ['qseqid', 'sseqid', 'pident', 'length', 'mismatch', 'gapopen', 'qstart', 'qend', 'sstart', 'send', 'evalue', 'bitscore']\n",
    "    #else:\n",
    "    integers = ['qlen','slen','qstart','qend','sstart','send','length','nident','mismatch','positive','gapopen','gaps','qcovs','qcovhsp']    \n",
    "    floaters = ['bitscore','score','pident','ppos']\n",
    "    ranges = {}\n",
    "    rng_index = {}\n",
    "    #len_min = 100\n",
    "    #min_pct = 30\n",
    "    hit_index = {}\n",
    "    hit_dict = {}\n",
    "    hitlist = []\n",
    "    fld_range = len(fmt_list)\n",
    "    field_dict = {}\n",
    "    for f in range(0,fld_range):\n",
    "        field_dict[fmt_list[f]]=f\n",
    "        \n",
    "    ct = 0\n",
    "    for hit in blast:\n",
    "        hit = hit.strip('\\n')\n",
    "        parts = hit.split('\\t')\n",
    "        ## have to change this to be flexible as to input format, start with standard format\n",
    "        \n",
    "        for fld in range(0,fld_range):\n",
    "            fld_name = fmt_list[fld]\n",
    "            fld_value = field_dict[fld_name]\n",
    "            ranges.setdefault(hitnum, {})['qseqid']=query\n",
    "            \n",
    "        query = parts[std['qseqid']]\n",
    "        #print(query)\n",
    "        subject = parts[std['sseqid']]\n",
    "        pct_ident = float(parts[std['pident']])\n",
    "        aln_length = int(parts[std['length']])\n",
    "        num_mismatch = int(parts[std['mismatch']])\n",
    "        gap_open = int(parts[std['gapopen']])\n",
    "        query_start = int(parts[std['qstart']])\n",
    "        query_end = int(parts[std['qend']])\n",
    "        substart = int(parts[std['sstart']])\n",
    "        subend = int(parts[std['send']])\n",
    "        e_val = parts[std['evalue']]\n",
    "        bit_score = parts[std['bitscore']]\n",
    "        #if pct_ident > min_pct: # filtering will happen outside script\n",
    "        if query in hitlist:\n",
    "            ct += 1\n",
    "        else:\n",
    "            hitlist.append(query)\n",
    "            ct = 0\n",
    "        hitnum = query+';hit'+str(ct)\n",
    "        rng_index.setdefault(query, []).append(hitnum)\n",
    "        ranges.setdefault(hitnum, {})['qseqid']=query\n",
    "        ranges.setdefault(hitnum, {})['sseqid']=subject\n",
    "        ranges.setdefault(hitnum, {})['pident']=pct_ident\n",
    "        ranges.setdefault(hitnum, {})['length']=aln_length\n",
    "        ranges.setdefault(hitnum, {})['mismatch']=num_mismatch\n",
    "        ranges.setdefault(hitnum, {})['gapopen']=gap_open\n",
    "        ranges.setdefault(hitnum, {})['qstart']=query_start\n",
    "        ranges.setdefault(hitnum, {})['qend']=query_end\n",
    "        ranges.setdefault(hitnum, {})['sstart']=substart\n",
    "        ranges.setdefault(hitnum, {})['send']=subend\n",
    "        ranges.setdefault(hitnum, {})['evalue']=e_val\n",
    "        ranges.setdefault(hitnum, {})['bitscore']=bit_score\n",
    "    return(rng_index, ranges)\n"
   ]
  },
  {
   "cell_type": "markdown",
   "metadata": {},
   "source": [
    "**The parsing function below will handle any custom tabular format**"
   ]
  },
  {
   "cell_type": "code",
   "execution_count": 23,
   "metadata": {
    "collapsed": true
   },
   "outputs": [],
   "source": [
    "# function for parsing blast file, default is standard tab format\n",
    "def blast_parser(blastfile, tab='standard'):\n",
    "    \"\"\"parse tabular blast files to retrieve all information for downstream\"\"\"\n",
    "    blast = open(blastfile)\n",
    "    if tab is 'standard': #'standard': # alternative add later \n",
    "        fmt_list = ['qseqid', 'sseqid', 'pident', 'length', 'mismatch', 'gapopen', 'qstart', 'qend', 'sstart', 'send', 'evalue', 'bitscore']\n",
    "    else:\n",
    "        fmt_list = tab\n",
    "    integers = ['qlen','slen','qstart','qend','sstart','send','length','nident','mismatch','positive','gapopen','gaps','qcovs','qcovhsp']    \n",
    "    floaters = ['bitscore','score','pident','ppos','evalue']\n",
    "    ranges = {}\n",
    "    rng_index = {}\n",
    "    hit_index = {}\n",
    "    hit_dict = {}\n",
    "    hitlist = []\n",
    "    # adding list of queries to pass to tuple, to preserve order of queries\n",
    "    query_list = []\n",
    "    hit_order = []\n",
    "    fld_range = len(fmt_list)\n",
    "    ct = 0\n",
    "    for hit in blast:\n",
    "        hit = hit.strip('\\n')\n",
    "        parts = hit.split('\\t')\n",
    "        for fld in range(0,fld_range):\n",
    "            fld_name = fmt_list[fld]\n",
    "            # differentiate between field types\n",
    "            if fld_name in integers:\n",
    "                fld_value = int(parts[fld])\n",
    "            elif fld_name in floaters:\n",
    "                fld_value = float(parts[fld])\n",
    "            else:\n",
    "                fld_value = parts[fld]    \n",
    "            if fld == 0:    \n",
    "                if fld_value in hitlist:\n",
    "                    ct += 1\n",
    "                else:\n",
    "                    hitlist.append(fld_value)\n",
    "                    ct = 0\n",
    "                hitnum = str(fld_value)+';hit'+str(ct)\n",
    "                rng_index.setdefault(str(fld_value), []).append(hitnum)\n",
    "                if fld_value not in query_list:\n",
    "                    query_list.append(fld_value)\n",
    "\n",
    "            ranges.setdefault(hitnum, {})[fld_name]=fld_value\n",
    "            if hitnum not in hit_order:\n",
    "                hit_order.append(hitnum)\n",
    "            \n",
    "\n",
    "    return(rng_index, ranges, query_list, hit_order)\n"
   ]
  },
  {
   "cell_type": "code",
   "execution_count": 24,
   "metadata": {
    "collapsed": true
   },
   "outputs": [],
   "source": [
    "## testing with a nonstandard format\n",
    "std_fmt = ['qseqid', 'sseqid', 'length', 'pident', 'mismatch', 'qcovs', 'evalue', 'bitscore', 'qstart', 'qend', 'sstart', 'send', 'gapopen']"
   ]
  },
  {
   "cell_type": "code",
   "execution_count": 25,
   "metadata": {
    "collapsed": false
   },
   "outputs": [],
   "source": [
    "blast_results = blast_parser('example_blastn_custom_output.outfmt6', std_fmt)"
   ]
  },
  {
   "cell_type": "code",
   "execution_count": 26,
   "metadata": {
    "collapsed": false
   },
   "outputs": [
    {
     "data": {
      "text/plain": [
       "['MA_10046850g0010;hit0',\n",
       " 'MA_10046850g0010;hit1',\n",
       " 'MA_10046850g0010;hit2',\n",
       " 'MA_10046850g0010;hit3',\n",
       " 'MA_10046850g0010;hit4']"
      ]
     },
     "execution_count": 26,
     "metadata": {},
     "output_type": "execute_result"
    }
   ],
   "source": [
    "# returned set with two dictionaries: first has a list of hits for each query\n",
    "blast_results[0]['MA_10046850g0010']"
   ]
  },
  {
   "cell_type": "code",
   "execution_count": 18,
   "metadata": {
    "collapsed": false
   },
   "outputs": [
    {
     "data": {
      "text/plain": [
       "{'bitscore': 3219.0,\n",
       " 'evalue': 0.0,\n",
       " 'gapopen': 1,\n",
       " 'length': 1780,\n",
       " 'mismatch': 11,\n",
       " 'pident': 99.326,\n",
       " 'qcovs': 100,\n",
       " 'qend': 1779,\n",
       " 'qseqid': 'MA_10429268g0010',\n",
       " 'qstart': 1,\n",
       " 'send': 4241,\n",
       " 'sseqid': 'Pg-02r141203s3085282',\n",
       " 'sstart': 2462}"
      ]
     },
     "execution_count": 18,
     "metadata": {},
     "output_type": "execute_result"
    }
   ],
   "source": [
    "# the second dictionary has all information for each hit\n",
    "blast_results[1]['MA_10429268g0010;hit0']"
   ]
  },
  {
   "cell_type": "code",
   "execution_count": 27,
   "metadata": {
    "collapsed": false
   },
   "outputs": [
    {
     "data": {
      "text/plain": [
       "'MA_10046850g0010;hit1'"
      ]
     },
     "execution_count": 27,
     "metadata": {},
     "output_type": "execute_result"
    }
   ],
   "source": [
    "query_ls = blast_results[3]\n",
    "query_ls[1]"
   ]
  },
  {
   "cell_type": "code",
   "execution_count": 7,
   "metadata": {
    "collapsed": true
   },
   "outputs": [],
   "source": [
    "# write script to filter blast_parser output to file as table\n",
    "def get_parameters(parameter_file):\n",
    "    para_file = open(parameter_file, 'r')\n",
    "    para_dict = {}\n",
    "    for line in para_file:\n",
    "        line = line.strip('\\n')\n",
    "        if line.startswith('#'):\n",
    "            continue\n",
    "        else:\n",
    "            line_parts = line.split('=')\n",
    "            para_name = line_parts[0]\n",
    "            para_value =line_parts[1]\n",
    "            if para_name == 'FORMAT':\n",
    "                fieldlist = para_value.split(' ')\n",
    "                para_dict['FORMAT']=fieldlist\n",
    "            elif para_name == 'MIN_LENGTH':\n",
    "                para_dict['MIN_LENGTH']=int(para_value)\n",
    "            elif para_name == 'MIN_PCT_ID':\n",
    "                para_dict['MIN_PCT_ID']=int(para_value)\n",
    "            elif para_name == 'QCOV':\n",
    "                para_dict['QCOV']=int(para_value)\n",
    "            elif para_name == 'MAX_MISMATCH':\n",
    "                para_dict['MAX_MISMATCH']=int(para_value)\n",
    "            \n",
    "    \n",
    "    \n",
    "    return para_dict"
   ]
  },
  {
   "cell_type": "code",
   "execution_count": 6,
   "metadata": {
    "collapsed": false
   },
   "outputs": [
    {
     "data": {
      "text/plain": [
       "{'FORMAT': ['qseqid',\n",
       "  'sseqid',\n",
       "  'length',\n",
       "  'pident',\n",
       "  'mismatch',\n",
       "  'qcovs',\n",
       "  'evalue',\n",
       "  'bitscore',\n",
       "  'qstart',\n",
       "  'qend',\n",
       "  'sstart',\n",
       "  'send',\n",
       "  'gapopen'],\n",
       " 'MIN_LENGTH': 500,\n",
       " 'MIN_PCT_ID': 95}"
      ]
     },
     "execution_count": 6,
     "metadata": {},
     "output_type": "execute_result"
    }
   ],
   "source": [
    "paras1 = get_parameters('parameters_file_template.txt')\n",
    "paras1"
   ]
  },
  {
   "cell_type": "code",
   "execution_count": 16,
   "metadata": {
    "collapsed": false
   },
   "outputs": [
    {
     "data": {
      "text/plain": [
       "['qseqid',\n",
       " 'sseqid',\n",
       " 'length',\n",
       " 'pident',\n",
       " 'mismatch',\n",
       " 'qcovs',\n",
       " 'evalue',\n",
       " 'bitscore',\n",
       " 'qstart',\n",
       " 'qend',\n",
       " 'sstart',\n",
       " 'send',\n",
       " 'gapopen']"
      ]
     },
     "execution_count": 16,
     "metadata": {},
     "output_type": "execute_result"
    }
   ],
   "source": [
    "fmt1 = paras1['FORMAT']\n",
    "fmt1"
   ]
  },
  {
   "cell_type": "code",
   "execution_count": 30,
   "metadata": {
    "collapsed": false
   },
   "outputs": [],
   "source": [
    "# a script that implements the blast parser, filters the result for length and pident, and outputs to summary\n",
    "\n",
    "blastout = open('blast_results_filtered.txt', 'w')\n",
    "blastfile = ('example_blastn_custom_output.outfmt6')\n",
    "parameter_file = ('parameters_file_template.txt')\n",
    "\n",
    "blast_parameters = get_parameters(parameter_file)\n",
    "blast_tab_format = blast_parameters['FORMAT']\n",
    "min_length = blast_parameters['MIN_LENGTH']\n",
    "min_pct = blast_parameters['MIN_PCT_ID']\n",
    "\n",
    "blast_results = blast_parser(blastfile, blast_tab_format)\n",
    "\n",
    "query_index = blast_results[0]\n",
    "hit_results = blast_results[1]\n",
    "\n",
    "for key, value in query_index.iteritems():\n",
    "    for hit in value: # now loops through lists of hits for this query\n",
    "        hit_dict = hit_results[hit]\n",
    "        if hit_dict['length'] > min_length:\n",
    "            if hit_dict['pident'] > min_pct:\n",
    "                # if it passes, write all fields to new file\n",
    "                # use blast_tab_format to put values in order\n",
    "                blaststring = ''\n",
    "                for field in blast_tab_format:\n",
    "                    #print field\n",
    "                    field_value = str(hit_dict[field])\n",
    "                    blaststring = blaststring+field_value+'\\t'\n",
    "                blastwrite = blaststring+'\\n'\n",
    "                blastwrite = blastwrite.replace('\\t\\n','\\n')\n",
    "                blastout.write(blastwrite)\n",
    "                    \n",
    "blastout.close()"
   ]
  },
  {
   "cell_type": "markdown",
   "metadata": {
    "collapsed": true
   },
   "source": [
    "have to set it up so all conditions can be tested simultaneously. Not nested 'if' conditions, but test each one, and add them up (if x > minimum: count += 1 or something), then total of all condition tests must add up to number of conditions from parameters"
   ]
  },
  {
   "cell_type": "markdown",
   "metadata": {
    "collapsed": true
   },
   "source": [
    "To have a variable number of conditions to test to filter blast results: create dictionary from parameters file, and can use length of dictionary to set number of conditions"
   ]
  },
  {
   "cell_type": "code",
   "execution_count": 4,
   "metadata": {
    "collapsed": true
   },
   "outputs": [],
   "source": [
    "# match the parameter to blast output fields\n",
    "field_match = {'MIN_LENGTH':'length','MIN_PCT_ID':'pident','MAX_MISMATCH':'mismatch','EVALUE':'evalue','SUBJECT_ID':'sseqid'}"
   ]
  },
  {
   "cell_type": "code",
   "execution_count": 8,
   "metadata": {
    "collapsed": false
   },
   "outputs": [
    {
     "name": "stdout",
     "output_type": "stream",
     "text": [
      "{'MIN_LENGTH': 500, 'MAX_MISMATCH': 20, 'MIN_PCT_ID': 95}\n"
     ]
    }
   ],
   "source": [
    "# a script that implements the blast parser, filters the result for length and pident, and outputs to summary\n",
    "# modified\n",
    "# establish how to test conditions\n",
    "mins = ['MIN_LENGTH','MIN_PCT_ID']\n",
    "maxes = ['MAX_MISMATCH','EVALUE']\n",
    "matches = ['SUBJECT_ID']\n",
    "\n",
    "blastout = open('blast_results_filtered_newer.txt', 'w')\n",
    "blastfile = ('example_blastn_custom_output.outfmt6')\n",
    "parameter_file = ('parameters_file_template.txt')\n",
    "\n",
    "blast_parameters = get_parameters(parameter_file)\n",
    "# get format\n",
    "blast_tab_format = blast_parameters['FORMAT']\n",
    "# take out format for filtering\n",
    "blast_parameters.pop('FORMAT')\n",
    "# get number of conditions to test\n",
    "num_conditions = len(blast_parameters)\n",
    "# get blast results\n",
    "blast_results = blast_parser(blastfile, blast_tab_format)\n",
    "\n",
    "query_index = blast_results[0]\n",
    "hit_results = blast_results[1]\n",
    "\n",
    "for key, value in query_index.iteritems():\n",
    "    for hit in value: # now loops through lists of hits for this query\n",
    "        conditions_reached = 0\n",
    "        hit_dict = hit_results[hit]\n",
    "        # now test all conditions separately\n",
    "        for k,v in blast_parameters.iteritems():\n",
    "            blast_field = field_match[k]\n",
    "            if k in mins:\n",
    "                if hit_dict[blast_field] > v:\n",
    "                    conditions_reached += 1\n",
    "            elif k in maxes:\n",
    "                if hit_dict[blast_field] < v:\n",
    "                    conditions_reached += 1\n",
    "            elif k in matches:\n",
    "                if hit_dict[blast_field] == v:\n",
    "                    conditions_reached += 1\n",
    " \n",
    "        if conditions_reached == num_conditions:\n",
    "            # use blast_tab_format to put values in order\n",
    "            blaststring = ''\n",
    "            for field in blast_tab_format:\n",
    "                #print field\n",
    "                field_value = str(hit_dict[field])\n",
    "                blaststring = blaststring+field_value+'\\t'\n",
    "            blastwrite = blaststring+'\\n'\n",
    "            blastwrite = blastwrite.replace('\\t\\n','\\n')\n",
    "            blastout.write(blastwrite)\n",
    "                    \n",
    "blastout.close()\n",
    "print(blast_parameters)"
   ]
  },
  {
   "cell_type": "code",
   "execution_count": 11,
   "metadata": {
    "collapsed": false
   },
   "outputs": [
    {
     "data": {
      "text/plain": [
       "{'a': 1, 'b': 2}"
      ]
     },
     "execution_count": 11,
     "metadata": {},
     "output_type": "execute_result"
    }
   ],
   "source": [
    "dict1 = {'a':1,'b':2,'c':3}\n",
    "dict2 = dict1.pop('c')\n",
    "dict1"
   ]
  },
  {
   "cell_type": "code",
   "execution_count": 9,
   "metadata": {
    "collapsed": false
   },
   "outputs": [
    {
     "data": {
      "text/plain": [
       "True"
      ]
     },
     "execution_count": 9,
     "metadata": {},
     "output_type": "execute_result"
    }
   ],
   "source": [
    "a = 1.222\n",
    "b = 1.223\n",
    "b > a"
   ]
  },
  {
   "cell_type": "markdown",
   "metadata": {},
   "source": [
    "### Rewrite the parameter filter as a function"
   ]
  },
  {
   "cell_type": "code",
   "execution_count": 10,
   "metadata": {
    "collapsed": true
   },
   "outputs": [],
   "source": [
    "def filter_blast(blast_result_dict, blast_parameters):\n",
    "    \"\"\"Filter a blast result dictionary based on variable parameters\"\"\"\n",
    "    mins = ['MIN_LENGTH','MIN_PCT_ID']\n",
    "    maxes = ['MAX_MISMATCH','EVALUE']\n",
    "    matches = ['SUBJECT_ID']\n",
    "    filtered_blast = {}\n",
    "    blast_parameters.pop('FORMAT')\n",
    "    num_conditions = len(blast_parameters)\n",
    "    query_index = blast_result_dict[0]\n",
    "    hit_results = blast_result_dict[1]\n",
    "    for key, value in query_index.iteritems():\n",
    "        for hit in value: # now loops through lists of hits for this query\n",
    "            conditions_reached = 0\n",
    "            hit_dict = hit_results[hit]\n",
    "            # now test all conditions separately\n",
    "            for k,v in blast_parameters.iteritems():\n",
    "                blast_field = field_match[k]\n",
    "                if k in mins:\n",
    "                    if hit_dict[blast_field] > v:\n",
    "                        conditions_reached += 1\n",
    "                elif k in maxes:\n",
    "                    if hit_dict[blast_field] < v:\n",
    "                        conditions_reached += 1\n",
    "                elif k in matches:\n",
    "                    if hit_dict[blast_field] == v:\n",
    "                        conditions_reached += 1\n",
    "\n",
    "            if conditions_reached == num_conditions:\n",
    "                filtered_blast[hit]=hit_dict\n",
    "    return filtered_blast"
   ]
  },
  {
   "cell_type": "code",
   "execution_count": 29,
   "metadata": {
    "collapsed": false
   },
   "outputs": [],
   "source": [
    "# run script from functions\n",
    "\n",
    "blastout = open('blast_results_filtered_from_function2.txt', 'w')\n",
    "blastfile = ('example_blastn_custom_output.outfmt6')\n",
    "parameter_file = ('parameters_file_template.txt')\n",
    "\n",
    "blast_parameters = get_parameters(parameter_file)\n",
    "# get format\n",
    "blast_tab_format = blast_parameters['FORMAT']\n",
    "# have to put default format parameters here, in case none provided\n",
    "\n",
    "# get blast results\n",
    "blast_results = blast_parser(blastfile, blast_tab_format)\n",
    "hit_order = blast_results[3]\n",
    "# filter blast results\n",
    "filt_blast_results = filter_blast(blast_results, blast_parameters)\n",
    "\n",
    "# write filtered results to file\n",
    "for hit in hit_order:\n",
    "    if hit in filt_blast_results:\n",
    "        hit_values = filt_blast_results[hit]\n",
    "        #for key,value in filt_blast_results.iteritems():\n",
    "        blaststring = ''\n",
    "        for field in blast_tab_format:\n",
    "            #print field\n",
    "            field_value = str(hit_values[field])\n",
    "            blaststring = blaststring+field_value+'\\t'\n",
    "        blastwrite = blaststring+'\\n'\n",
    "        blastwrite = blastwrite.replace('\\t\\n','\\n')\n",
    "        blastout.write(blastwrite)\n",
    "                    \n",
    "blastout.close()"
   ]
  },
  {
   "cell_type": "code",
   "execution_count": 28,
   "metadata": {
    "collapsed": false
   },
   "outputs": [],
   "source": [
    "# just try to order the dictionary, so they all come out \n",
    "#filt_blast_results\n"
   ]
  },
  {
   "cell_type": "code",
   "execution_count": null,
   "metadata": {
    "collapsed": true
   },
   "outputs": [],
   "source": []
  }
 ],
 "metadata": {
  "anaconda-cloud": {},
  "kernelspec": {
   "display_name": "Python 2",
   "language": "python",
   "name": "python2"
  },
  "language_info": {
   "codemirror_mode": {
    "name": "ipython",
    "version": 2
   },
   "file_extension": ".py",
   "mimetype": "text/x-python",
   "name": "python",
   "nbconvert_exporter": "python",
   "pygments_lexer": "ipython2",
   "version": "2.7.12"
  }
 },
 "nbformat": 4,
 "nbformat_minor": 0
}
