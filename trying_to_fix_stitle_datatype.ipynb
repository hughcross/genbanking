{
 "cells": [
  {
   "cell_type": "markdown",
   "metadata": {},
   "source": [
    "## Convert filter_blast function to use pandas"
   ]
  },
  {
   "cell_type": "code",
   "execution_count": 1,
   "metadata": {
    "collapsed": true
   },
   "outputs": [],
   "source": [
    "import pandas as pd\n",
    "import numpy as np"
   ]
  },
  {
   "cell_type": "code",
   "execution_count": 2,
   "metadata": {
    "collapsed": false
   },
   "outputs": [],
   "source": [
    "import sys\n",
    "sys.path.append('/Users/hcross/analysis/git_projects/genbanking/gb_parsers/')\n",
    "from blast_parsers import blast_parser"
   ]
  },
  {
   "cell_type": "code",
   "execution_count": 3,
   "metadata": {
    "collapsed": true
   },
   "outputs": [],
   "source": [
    "def filter_blast(blastDF, blast_parameters):\n",
    "    \"\"\"Filter a blast result dictionary based on variable parameters using pandas\"\"\"\n",
    "    ## >> have to add more to following\n",
    "    field_match = {'SUB_LENGTH':'slen','MIN_QSTART':'qstart','MAX_QSTART':'qstart','MIN_QEND':'qend','MAX_QEND':'qend','MIN_SEND':'send','MAX_SEND':'send','MIN_BITSCORE':'bitscore','MIN_POSITIVE':'positive','MAX_GAPOPEN':'gapopen','MAX_GAPS':'gaps','IN_TITLE':'stitle','IN_SSEQ':'sseq','MIN_SSTART':'sstart','MAX_SSTART':'sstart','MIN_QCOV':'qcovs','MIN_LENGTH':'length','MIN_PCT_ID':'pident','MAX_MISMATCH':'mismatch','MAX_EVALUE':'evalue','IN_SUBJECT_ID':'sseqid'}\n",
    "    mins = ['MIN_LENGTH','MIN_PCT_ID','MIN_SSTART','MIN_QCOV','SUB_LENGTH','MIN_QSTART','MIN_QEND','MIN_SEND','MIN_BITSCORE','MIN_POSITIVE'] \n",
    "    maxes = ['MAX_MISMATCH','MAX_EVALUE','MAX_SSTART','MAX_QSTART','MAX_QEND','MAX_SEND','MAX_GAPOPEN','MAX_GAPS'] \n",
    "    containers = ['IN_SUBJECT_ID','IN_TITLE','IN_SSEQ']\n",
    "    filtered_blast = {}\n",
    "    blast_parameters.pop('FORMAT')\n",
    "    num_conditions = len(blast_parameters)\n",
    "    # for now have to build it as a string and then run \n",
    "    string_list = []\n",
    "    for k,v in blast_parameters.iteritems():\n",
    "        # blast2 = blast_table.loc[blast_table['pident'] > 35]\n",
    "        blast_field = field_match[k]\n",
    "        string = \"blastDF[blast_field]\"\n",
    "        if k in mins:\n",
    "            #string = string + \"> \"+v+\"]\"\n",
    "            string = string + \"> %s\" %(v)\n",
    "            #if hit_dict[blast_field] > v:   \n",
    "        elif k in maxes:\n",
    "            string = string + \"< %s\" %(v)\n",
    "            #if hit_dict[blast_field] < v:\n",
    "                \n",
    "        elif k in containers:\n",
    "            # bb5 = bb[bb['stitle'].str.contains('Maireana')]\n",
    "            #string = string+\".str.contains(\"+v+\")]\"\n",
    "            string = string+\".str.contains('%s')\" % (v)\n",
    "            #if v in hit_dict[blast_field]: # need to fix this, was in v\n",
    "        string_list.append(string)\n",
    "    if num_conditions == 1:\n",
    "        cmd_string = string_list[0]\n",
    "        final_string = \"filt_blastDF = blastDF[\"+cmd_string+\"]\"\n",
    "        exec(final_string)\n",
    "        \n",
    "    # for multiple conditions:\n",
    "    #blast3 = blast_table[(blast_table['pident'] > 35) & (blast_table['length'] > 100)]\n",
    "    else:\n",
    "        initial = \"filt_blastDF = blastDF[\"\n",
    "        for cmd in string_list:\n",
    "            new_string = \"(\"+cmd+\")\"\n",
    "            initial = initial+new_string+\"&\"\n",
    "        semifinal = initial[:-1]\n",
    "        final = semifinal+\"]\"\n",
    "        exec(final)\n",
    "    return filt_blastDF\n",
    "    "
   ]
  },
  {
   "cell_type": "markdown",
   "metadata": {
    "collapsed": true
   },
   "source": [
    "### Test with big file"
   ]
  },
  {
   "cell_type": "code",
   "execution_count": 7,
   "metadata": {
    "collapsed": true
   },
   "outputs": [],
   "source": [
    "test1_names = ['qseqid','sseqid','stitle','extra','evalue','bitscore','qcovs','length','pident','nident','qstart','qend','sstart','send','qseq','sseq']"
   ]
  },
  {
   "cell_type": "code",
   "execution_count": 8,
   "metadata": {
    "collapsed": true
   },
   "outputs": [],
   "source": [
    "test = pd.read_table('testblast1.txt', sep='\\t', names=test1_names)"
   ]
  },
  {
   "cell_type": "code",
   "execution_count": 9,
   "metadata": {
    "collapsed": false
   },
   "outputs": [
    {
     "data": {
      "text/html": [
       "<div>\n",
       "<table border=\"1\" class=\"dataframe\">\n",
       "  <thead>\n",
       "    <tr style=\"text-align: right;\">\n",
       "      <th></th>\n",
       "      <th>qseqid</th>\n",
       "      <th>sseqid</th>\n",
       "      <th>stitle</th>\n",
       "      <th>extra</th>\n",
       "      <th>evalue</th>\n",
       "      <th>bitscore</th>\n",
       "      <th>qcovs</th>\n",
       "      <th>length</th>\n",
       "      <th>pident</th>\n",
       "      <th>nident</th>\n",
       "      <th>qstart</th>\n",
       "      <th>qend</th>\n",
       "      <th>sstart</th>\n",
       "      <th>send</th>\n",
       "      <th>qseq</th>\n",
       "      <th>sseq</th>\n",
       "    </tr>\n",
       "  </thead>\n",
       "  <tbody>\n",
       "    <tr>\n",
       "      <th>0</th>\n",
       "      <td>cam03.cf15_322</td>\n",
       "      <td>gi|564614030|gb|KF669512.1|</td>\n",
       "      <td>Acremonium sp. 904C internal transcribed space...</td>\n",
       "      <td>partial sequence; 5.8S ribosomal RNA gene and...</td>\n",
       "      <td>5.580000e-30</td>\n",
       "      <td>139</td>\n",
       "      <td>100</td>\n",
       "      <td>78</td>\n",
       "      <td>98.718</td>\n",
       "      <td>77</td>\n",
       "      <td>1</td>\n",
       "      <td>78</td>\n",
       "      <td>473</td>\n",
       "      <td>550</td>\n",
       "      <td>GCGGTGCGGCCAAGCCGTAAAACACCCCACTTCTTCAAGGTTGACC...</td>\n",
       "      <td>GCGGTGCGGCCACGCCGTAAAACACCCCACTTCTTCAAGGTTGACC...</td>\n",
       "    </tr>\n",
       "    <tr>\n",
       "      <th>1</th>\n",
       "      <td>cam03.cf15_322</td>\n",
       "      <td>gi|312434386|gb|HQ607908.1|</td>\n",
       "      <td>Ascomycota sp. AR-2010 isolate ATT243 18S ribo...</td>\n",
       "      <td>l RNA gene, partial sequence; internal transcr...</td>\n",
       "      <td>9.340000e-28</td>\n",
       "      <td>132</td>\n",
       "      <td>100</td>\n",
       "      <td>78</td>\n",
       "      <td>97.436</td>\n",
       "      <td>76</td>\n",
       "      <td>1</td>\n",
       "      <td>78</td>\n",
       "      <td>505</td>\n",
       "      <td>581</td>\n",
       "      <td>GCGGTGCGGCCAAGCCGTAAAACACCCCACTTCTTCAAGGTTGACC...</td>\n",
       "      <td>GCGGTGCGGCCACGCCGTAAAACACCCCACTTC-TCAAGGTTGACC...</td>\n",
       "    </tr>\n",
       "    <tr>\n",
       "      <th>2</th>\n",
       "      <td>cam03.cf15_322</td>\n",
       "      <td>gi|256855623|emb|FN397253.1|</td>\n",
       "      <td>Uncultured fungus genomic DNA sequence contain...</td>\n",
       "      <td>18S rRNA gene, ITS1, 5.8S rRNA gene, ITS2 and ...</td>\n",
       "      <td>9.340000e-28</td>\n",
       "      <td>132</td>\n",
       "      <td>100</td>\n",
       "      <td>78</td>\n",
       "      <td>97.436</td>\n",
       "      <td>76</td>\n",
       "      <td>1</td>\n",
       "      <td>78</td>\n",
       "      <td>518</td>\n",
       "      <td>594</td>\n",
       "      <td>GCGGTGCGGCCAAGCCGTAAAACACCCCACTTCTTCAAGGTTGACC...</td>\n",
       "      <td>GCGGTGCGGCCACGCCGTAAAACACCCCACTTC-TCAAGGTTGACC...</td>\n",
       "    </tr>\n",
       "    <tr>\n",
       "      <th>3</th>\n",
       "      <td>cam03.cf15_322</td>\n",
       "      <td>gi|1030027947|gb|KU931422.1|</td>\n",
       "      <td>Uncultured fungus clone WJ139 18S ribosomal RN...</td>\n",
       "      <td>ne, partial sequence</td>\n",
       "      <td>3.360000e-27</td>\n",
       "      <td>130</td>\n",
       "      <td>100</td>\n",
       "      <td>80</td>\n",
       "      <td>96.250</td>\n",
       "      <td>77</td>\n",
       "      <td>1</td>\n",
       "      <td>78</td>\n",
       "      <td>535</td>\n",
       "      <td>614</td>\n",
       "      <td>GCGGTGCGGCCAAGCCGTAAAACACCCCACTTCTTC--AAGGTTGA...</td>\n",
       "      <td>GCGGTGCGGCCACGCCGTAAAACACCCCACTTCTTCCAAAGGTTGA...</td>\n",
       "    </tr>\n",
       "    <tr>\n",
       "      <th>4</th>\n",
       "      <td>cam03.cf15_322</td>\n",
       "      <td>gi|1005260240|emb|HG937108.1|</td>\n",
       "      <td>Uncultured Acremonium genomic DNA containing 1...</td>\n",
       "      <td>RNA gene, ITS1, 5.8S rRNA gene, ITS2 and 28S r...</td>\n",
       "      <td>3.360000e-27</td>\n",
       "      <td>130</td>\n",
       "      <td>94</td>\n",
       "      <td>73</td>\n",
       "      <td>98.630</td>\n",
       "      <td>72</td>\n",
       "      <td>6</td>\n",
       "      <td>78</td>\n",
       "      <td>520</td>\n",
       "      <td>592</td>\n",
       "      <td>GCGGCCAAGCCGTAAAACACCCCACTTCTTCAAGGTTGACCTCGGA...</td>\n",
       "      <td>GCGGCCACGCCGTAAAACACCCCACTTCTTCAAGGTTGACCTCGGA...</td>\n",
       "    </tr>\n",
       "  </tbody>\n",
       "</table>\n",
       "</div>"
      ],
      "text/plain": [
       "           qseqid                         sseqid  \\\n",
       "0  cam03.cf15_322    gi|564614030|gb|KF669512.1|   \n",
       "1  cam03.cf15_322    gi|312434386|gb|HQ607908.1|   \n",
       "2  cam03.cf15_322   gi|256855623|emb|FN397253.1|   \n",
       "3  cam03.cf15_322   gi|1030027947|gb|KU931422.1|   \n",
       "4  cam03.cf15_322  gi|1005260240|emb|HG937108.1|   \n",
       "\n",
       "                                              stitle  \\\n",
       "0  Acremonium sp. 904C internal transcribed space...   \n",
       "1  Ascomycota sp. AR-2010 isolate ATT243 18S ribo...   \n",
       "2  Uncultured fungus genomic DNA sequence contain...   \n",
       "3  Uncultured fungus clone WJ139 18S ribosomal RN...   \n",
       "4  Uncultured Acremonium genomic DNA containing 1...   \n",
       "\n",
       "                                               extra        evalue  bitscore  \\\n",
       "0   partial sequence; 5.8S ribosomal RNA gene and...  5.580000e-30       139   \n",
       "1  l RNA gene, partial sequence; internal transcr...  9.340000e-28       132   \n",
       "2  18S rRNA gene, ITS1, 5.8S rRNA gene, ITS2 and ...  9.340000e-28       132   \n",
       "3                               ne, partial sequence  3.360000e-27       130   \n",
       "4  RNA gene, ITS1, 5.8S rRNA gene, ITS2 and 28S r...  3.360000e-27       130   \n",
       "\n",
       "   qcovs  length  pident  nident  qstart  qend  sstart  send  \\\n",
       "0    100      78  98.718      77       1    78     473   550   \n",
       "1    100      78  97.436      76       1    78     505   581   \n",
       "2    100      78  97.436      76       1    78     518   594   \n",
       "3    100      80  96.250      77       1    78     535   614   \n",
       "4     94      73  98.630      72       6    78     520   592   \n",
       "\n",
       "                                                qseq  \\\n",
       "0  GCGGTGCGGCCAAGCCGTAAAACACCCCACTTCTTCAAGGTTGACC...   \n",
       "1  GCGGTGCGGCCAAGCCGTAAAACACCCCACTTCTTCAAGGTTGACC...   \n",
       "2  GCGGTGCGGCCAAGCCGTAAAACACCCCACTTCTTCAAGGTTGACC...   \n",
       "3  GCGGTGCGGCCAAGCCGTAAAACACCCCACTTCTTC--AAGGTTGA...   \n",
       "4  GCGGCCAAGCCGTAAAACACCCCACTTCTTCAAGGTTGACCTCGGA...   \n",
       "\n",
       "                                                sseq  \n",
       "0  GCGGTGCGGCCACGCCGTAAAACACCCCACTTCTTCAAGGTTGACC...  \n",
       "1  GCGGTGCGGCCACGCCGTAAAACACCCCACTTC-TCAAGGTTGACC...  \n",
       "2  GCGGTGCGGCCACGCCGTAAAACACCCCACTTC-TCAAGGTTGACC...  \n",
       "3  GCGGTGCGGCCACGCCGTAAAACACCCCACTTCTTCCAAAGGTTGA...  \n",
       "4  GCGGCCACGCCGTAAAACACCCCACTTCTTCAAGGTTGACCTCGGA...  "
      ]
     },
     "execution_count": 9,
     "metadata": {},
     "output_type": "execute_result"
    }
   ],
   "source": [
    "test.head()"
   ]
  },
  {
   "cell_type": "code",
   "execution_count": 10,
   "metadata": {
    "collapsed": true
   },
   "outputs": [],
   "source": [
    "test2 = test[test['stitle'].str.contains('Acremonium')]"
   ]
  },
  {
   "cell_type": "code",
   "execution_count": 12,
   "metadata": {
    "collapsed": false
   },
   "outputs": [
    {
     "data": {
      "text/html": [
       "<div>\n",
       "<table border=\"1\" class=\"dataframe\">\n",
       "  <thead>\n",
       "    <tr style=\"text-align: right;\">\n",
       "      <th></th>\n",
       "      <th>qseqid</th>\n",
       "      <th>sseqid</th>\n",
       "      <th>stitle</th>\n",
       "      <th>extra</th>\n",
       "      <th>evalue</th>\n",
       "      <th>bitscore</th>\n",
       "      <th>qcovs</th>\n",
       "      <th>length</th>\n",
       "      <th>pident</th>\n",
       "      <th>nident</th>\n",
       "      <th>qstart</th>\n",
       "      <th>qend</th>\n",
       "      <th>sstart</th>\n",
       "      <th>send</th>\n",
       "      <th>qseq</th>\n",
       "      <th>sseq</th>\n",
       "    </tr>\n",
       "  </thead>\n",
       "  <tbody>\n",
       "    <tr>\n",
       "      <th>0</th>\n",
       "      <td>cam03.cf15_322</td>\n",
       "      <td>gi|564614030|gb|KF669512.1|</td>\n",
       "      <td>Acremonium sp. 904C internal transcribed space...</td>\n",
       "      <td>partial sequence; 5.8S ribosomal RNA gene and...</td>\n",
       "      <td>5.580000e-30</td>\n",
       "      <td>139</td>\n",
       "      <td>100</td>\n",
       "      <td>78</td>\n",
       "      <td>98.718</td>\n",
       "      <td>77</td>\n",
       "      <td>1</td>\n",
       "      <td>78</td>\n",
       "      <td>473</td>\n",
       "      <td>550</td>\n",
       "      <td>GCGGTGCGGCCAAGCCGTAAAACACCCCACTTCTTCAAGGTTGACC...</td>\n",
       "      <td>GCGGTGCGGCCACGCCGTAAAACACCCCACTTCTTCAAGGTTGACC...</td>\n",
       "    </tr>\n",
       "    <tr>\n",
       "      <th>4</th>\n",
       "      <td>cam03.cf15_322</td>\n",
       "      <td>gi|1005260240|emb|HG937108.1|</td>\n",
       "      <td>Uncultured Acremonium genomic DNA containing 1...</td>\n",
       "      <td>RNA gene, ITS1, 5.8S rRNA gene, ITS2 and 28S r...</td>\n",
       "      <td>3.360000e-27</td>\n",
       "      <td>130</td>\n",
       "      <td>94</td>\n",
       "      <td>73</td>\n",
       "      <td>98.630</td>\n",
       "      <td>72</td>\n",
       "      <td>6</td>\n",
       "      <td>78</td>\n",
       "      <td>520</td>\n",
       "      <td>592</td>\n",
       "      <td>GCGGCCAAGCCGTAAAACACCCCACTTCTTCAAGGTTGACCTCGGA...</td>\n",
       "      <td>GCGGCCACGCCGTAAAACACCCCACTTCTTCAAGGTTGACCTCGGA...</td>\n",
       "    </tr>\n",
       "    <tr>\n",
       "      <th>8</th>\n",
       "      <td>cam03.cf15_322</td>\n",
       "      <td>gi|1373300|gb|U57672.1|ACU57672</td>\n",
       "      <td>Acremonium chrysogenum rDNA internal transcrib...</td>\n",
       "      <td>pacers 1 and 2 and 5.8S rRNA gene</td>\n",
       "      <td>3.360000e-27</td>\n",
       "      <td>130</td>\n",
       "      <td>94</td>\n",
       "      <td>73</td>\n",
       "      <td>98.630</td>\n",
       "      <td>72</td>\n",
       "      <td>6</td>\n",
       "      <td>78</td>\n",
       "      <td>480</td>\n",
       "      <td>552</td>\n",
       "      <td>GCGGCCAAGCCGTAAAACACCCCACTTCTTCAAGGTTGACCTCGGA...</td>\n",
       "      <td>GCGGCCACGCCGTAAAACACCCCACTTCTTCAAGGTTGACCTCGGA...</td>\n",
       "    </tr>\n",
       "  </tbody>\n",
       "</table>\n",
       "</div>"
      ],
      "text/plain": [
       "           qseqid                           sseqid  \\\n",
       "0  cam03.cf15_322      gi|564614030|gb|KF669512.1|   \n",
       "4  cam03.cf15_322    gi|1005260240|emb|HG937108.1|   \n",
       "8  cam03.cf15_322  gi|1373300|gb|U57672.1|ACU57672   \n",
       "\n",
       "                                              stitle  \\\n",
       "0  Acremonium sp. 904C internal transcribed space...   \n",
       "4  Uncultured Acremonium genomic DNA containing 1...   \n",
       "8  Acremonium chrysogenum rDNA internal transcrib...   \n",
       "\n",
       "                                               extra        evalue  bitscore  \\\n",
       "0   partial sequence; 5.8S ribosomal RNA gene and...  5.580000e-30       139   \n",
       "4  RNA gene, ITS1, 5.8S rRNA gene, ITS2 and 28S r...  3.360000e-27       130   \n",
       "8                  pacers 1 and 2 and 5.8S rRNA gene  3.360000e-27       130   \n",
       "\n",
       "   qcovs  length  pident  nident  qstart  qend  sstart  send  \\\n",
       "0    100      78  98.718      77       1    78     473   550   \n",
       "4     94      73  98.630      72       6    78     520   592   \n",
       "8     94      73  98.630      72       6    78     480   552   \n",
       "\n",
       "                                                qseq  \\\n",
       "0  GCGGTGCGGCCAAGCCGTAAAACACCCCACTTCTTCAAGGTTGACC...   \n",
       "4  GCGGCCAAGCCGTAAAACACCCCACTTCTTCAAGGTTGACCTCGGA...   \n",
       "8  GCGGCCAAGCCGTAAAACACCCCACTTCTTCAAGGTTGACCTCGGA...   \n",
       "\n",
       "                                                sseq  \n",
       "0  GCGGTGCGGCCACGCCGTAAAACACCCCACTTCTTCAAGGTTGACC...  \n",
       "4  GCGGCCACGCCGTAAAACACCCCACTTCTTCAAGGTTGACCTCGGA...  \n",
       "8  GCGGCCACGCCGTAAAACACCCCACTTCTTCAAGGTTGACCTCGGA...  "
      ]
     },
     "execution_count": 12,
     "metadata": {},
     "output_type": "execute_result"
    }
   ],
   "source": [
    "test2"
   ]
  },
  {
   "cell_type": "code",
   "execution_count": 13,
   "metadata": {
    "collapsed": true
   },
   "outputs": [],
   "source": [
    "test2 = test[test['extra'].str.contains('rRNA')]"
   ]
  },
  {
   "cell_type": "code",
   "execution_count": 17,
   "metadata": {
    "collapsed": true
   },
   "outputs": [],
   "source": [
    "test2_names = ['qseqid','sseqid','taxon', 'stitle','extra','evalue','bitscore','qcovs','length','pident','nident','qstart','qend','sstart','send','qseq','sseq']"
   ]
  },
  {
   "cell_type": "code",
   "execution_count": 18,
   "metadata": {
    "collapsed": false
   },
   "outputs": [],
   "source": [
    "testDf2 = pd.read_table('testblast2.txt', sep='\\t', names=test2_names)"
   ]
  },
  {
   "cell_type": "code",
   "execution_count": 19,
   "metadata": {
    "collapsed": true
   },
   "outputs": [],
   "source": [
    "test3 = testDf2[testDf2['taxon'].str.contains('Acremonium')]"
   ]
  },
  {
   "cell_type": "code",
   "execution_count": 20,
   "metadata": {
    "collapsed": true
   },
   "outputs": [],
   "source": [
    "test3 = testDf2[testDf2['stitle'].str.contains('rRNA')]"
   ]
  },
  {
   "cell_type": "code",
   "execution_count": 21,
   "metadata": {
    "collapsed": false
   },
   "outputs": [
    {
     "ename": "AttributeError",
     "evalue": "Can only use .str accessor with string values, which use np.object_ dtype in pandas",
     "output_type": "error",
     "traceback": [
      "\u001b[0;31m---------------------------------------------------------------------------\u001b[0m",
      "\u001b[0;31mAttributeError\u001b[0m                            Traceback (most recent call last)",
      "\u001b[0;32m<ipython-input-21-f37c06857cb5>\u001b[0m in \u001b[0;36m<module>\u001b[0;34m()\u001b[0m\n\u001b[0;32m----> 1\u001b[0;31m \u001b[0mtest4\u001b[0m \u001b[0;34m=\u001b[0m \u001b[0mtestDf2\u001b[0m\u001b[0;34m[\u001b[0m\u001b[0mtestDf2\u001b[0m\u001b[0;34m[\u001b[0m\u001b[0;34m'sseq'\u001b[0m\u001b[0;34m]\u001b[0m\u001b[0;34m.\u001b[0m\u001b[0mstr\u001b[0m\u001b[0;34m.\u001b[0m\u001b[0mcontains\u001b[0m\u001b[0;34m(\u001b[0m\u001b[0;34m'TTCTT'\u001b[0m\u001b[0;34m)\u001b[0m\u001b[0;34m]\u001b[0m\u001b[0;34m\u001b[0m\u001b[0m\n\u001b[0m",
      "\u001b[0;32m/Users/hcross/anaconda/envs/pan/lib/python2.7/site-packages/pandas/core/generic.pyc\u001b[0m in \u001b[0;36m__getattr__\u001b[0;34m(self, name)\u001b[0m\n\u001b[1;32m   2666\u001b[0m         if (name in self._internal_names_set or name in self._metadata or\n\u001b[1;32m   2667\u001b[0m                 name in self._accessors):\n\u001b[0;32m-> 2668\u001b[0;31m             \u001b[0;32mreturn\u001b[0m \u001b[0mobject\u001b[0m\u001b[0;34m.\u001b[0m\u001b[0m__getattribute__\u001b[0m\u001b[0;34m(\u001b[0m\u001b[0mself\u001b[0m\u001b[0;34m,\u001b[0m \u001b[0mname\u001b[0m\u001b[0;34m)\u001b[0m\u001b[0;34m\u001b[0m\u001b[0m\n\u001b[0m\u001b[1;32m   2669\u001b[0m         \u001b[0;32melse\u001b[0m\u001b[0;34m:\u001b[0m\u001b[0;34m\u001b[0m\u001b[0m\n\u001b[1;32m   2670\u001b[0m             \u001b[0;32mif\u001b[0m \u001b[0mname\u001b[0m \u001b[0;32min\u001b[0m \u001b[0mself\u001b[0m\u001b[0;34m.\u001b[0m\u001b[0m_info_axis\u001b[0m\u001b[0;34m:\u001b[0m\u001b[0;34m\u001b[0m\u001b[0m\n",
      "\u001b[0;32m/Users/hcross/anaconda/envs/pan/lib/python2.7/site-packages/pandas/core/base.pyc\u001b[0m in \u001b[0;36m__get__\u001b[0;34m(self, instance, owner)\u001b[0m\n\u001b[1;32m    235\u001b[0m             \u001b[0;31m# this ensures that Series.str.<method> is well defined\u001b[0m\u001b[0;34m\u001b[0m\u001b[0;34m\u001b[0m\u001b[0m\n\u001b[1;32m    236\u001b[0m             \u001b[0;32mreturn\u001b[0m \u001b[0mself\u001b[0m\u001b[0;34m.\u001b[0m\u001b[0maccessor_cls\u001b[0m\u001b[0;34m\u001b[0m\u001b[0m\n\u001b[0;32m--> 237\u001b[0;31m         \u001b[0;32mreturn\u001b[0m \u001b[0mself\u001b[0m\u001b[0;34m.\u001b[0m\u001b[0mconstruct_accessor\u001b[0m\u001b[0;34m(\u001b[0m\u001b[0minstance\u001b[0m\u001b[0;34m)\u001b[0m\u001b[0;34m\u001b[0m\u001b[0m\n\u001b[0m\u001b[1;32m    238\u001b[0m \u001b[0;34m\u001b[0m\u001b[0m\n\u001b[1;32m    239\u001b[0m     \u001b[0;32mdef\u001b[0m \u001b[0m__set__\u001b[0m\u001b[0;34m(\u001b[0m\u001b[0mself\u001b[0m\u001b[0;34m,\u001b[0m \u001b[0minstance\u001b[0m\u001b[0;34m,\u001b[0m \u001b[0mvalue\u001b[0m\u001b[0;34m)\u001b[0m\u001b[0;34m:\u001b[0m\u001b[0;34m\u001b[0m\u001b[0m\n",
      "\u001b[0;32m/Users/hcross/anaconda/envs/pan/lib/python2.7/site-packages/pandas/core/strings.pyc\u001b[0m in \u001b[0;36m_make_str_accessor\u001b[0;34m(self)\u001b[0m\n\u001b[1;32m   1816\u001b[0m             \u001b[0;31m# (instead of test for object dtype), but that isn't practical for\u001b[0m\u001b[0;34m\u001b[0m\u001b[0;34m\u001b[0m\u001b[0m\n\u001b[1;32m   1817\u001b[0m             \u001b[0;31m# performance reasons until we have a str dtype (GH 9343)\u001b[0m\u001b[0;34m\u001b[0m\u001b[0;34m\u001b[0m\u001b[0m\n\u001b[0;32m-> 1818\u001b[0;31m             raise AttributeError(\"Can only use .str accessor with string \"\n\u001b[0m\u001b[1;32m   1819\u001b[0m                                  \u001b[0;34m\"values, which use np.object_ dtype in \"\u001b[0m\u001b[0;34m\u001b[0m\u001b[0m\n\u001b[1;32m   1820\u001b[0m                                  \"pandas\")\n",
      "\u001b[0;31mAttributeError\u001b[0m: Can only use .str accessor with string values, which use np.object_ dtype in pandas"
     ]
    }
   ],
   "source": [
    "test4 = testDf2[testDf2['sseq'].str.contains('TTCTT')]"
   ]
  },
  {
   "cell_type": "code",
   "execution_count": 22,
   "metadata": {
    "collapsed": true
   },
   "outputs": [],
   "source": [
    "test3_names = ['qseqid','sseqid','taxon', 'stitle','extra','evalue','bitscore','qcovs','length','pident','nident','qstart','qend','sstart','send','qseq','sseq1','sseq2']"
   ]
  },
  {
   "cell_type": "code",
   "execution_count": 28,
   "metadata": {
    "collapsed": true
   },
   "outputs": [],
   "source": [
    "testDf3 = pd.read_table('testblast3.txt', sep='\\t', names=test3_names)"
   ]
  },
  {
   "cell_type": "code",
   "execution_count": 29,
   "metadata": {
    "collapsed": false
   },
   "outputs": [],
   "source": [
    "test5 = testDf3[testDf3['sseq1'].str.contains('TTCTT')]"
   ]
  },
  {
   "cell_type": "code",
   "execution_count": 37,
   "metadata": {
    "collapsed": false
   },
   "outputs": [
    {
     "ename": "AttributeError",
     "evalue": "Can only use .str accessor with string values, which use np.object_ dtype in pandas",
     "output_type": "error",
     "traceback": [
      "\u001b[0;31m---------------------------------------------------------------------------\u001b[0m",
      "\u001b[0;31mAttributeError\u001b[0m                            Traceback (most recent call last)",
      "\u001b[0;32m<ipython-input-37-ce0ebbd75b5c>\u001b[0m in \u001b[0;36m<module>\u001b[0;34m()\u001b[0m\n\u001b[0;32m----> 1\u001b[0;31m \u001b[0mtest6\u001b[0m \u001b[0;34m=\u001b[0m \u001b[0mtestDf3\u001b[0m\u001b[0;34m[\u001b[0m\u001b[0mtestDf3\u001b[0m\u001b[0;34m[\u001b[0m\u001b[0;34m'sseq2'\u001b[0m\u001b[0;34m]\u001b[0m\u001b[0;34m.\u001b[0m\u001b[0mstr\u001b[0m\u001b[0;34m.\u001b[0m\u001b[0mcontains\u001b[0m\u001b[0;34m(\u001b[0m\u001b[0;34m'TTCTT'\u001b[0m\u001b[0;34m)\u001b[0m\u001b[0;34m]\u001b[0m\u001b[0;34m\u001b[0m\u001b[0m\n\u001b[0m",
      "\u001b[0;32m/Users/hcross/anaconda/envs/pan/lib/python2.7/site-packages/pandas/core/generic.pyc\u001b[0m in \u001b[0;36m__getattr__\u001b[0;34m(self, name)\u001b[0m\n\u001b[1;32m   2666\u001b[0m         if (name in self._internal_names_set or name in self._metadata or\n\u001b[1;32m   2667\u001b[0m                 name in self._accessors):\n\u001b[0;32m-> 2668\u001b[0;31m             \u001b[0;32mreturn\u001b[0m \u001b[0mobject\u001b[0m\u001b[0;34m.\u001b[0m\u001b[0m__getattribute__\u001b[0m\u001b[0;34m(\u001b[0m\u001b[0mself\u001b[0m\u001b[0;34m,\u001b[0m \u001b[0mname\u001b[0m\u001b[0;34m)\u001b[0m\u001b[0;34m\u001b[0m\u001b[0m\n\u001b[0m\u001b[1;32m   2669\u001b[0m         \u001b[0;32melse\u001b[0m\u001b[0;34m:\u001b[0m\u001b[0;34m\u001b[0m\u001b[0m\n\u001b[1;32m   2670\u001b[0m             \u001b[0;32mif\u001b[0m \u001b[0mname\u001b[0m \u001b[0;32min\u001b[0m \u001b[0mself\u001b[0m\u001b[0;34m.\u001b[0m\u001b[0m_info_axis\u001b[0m\u001b[0;34m:\u001b[0m\u001b[0;34m\u001b[0m\u001b[0m\n",
      "\u001b[0;32m/Users/hcross/anaconda/envs/pan/lib/python2.7/site-packages/pandas/core/base.pyc\u001b[0m in \u001b[0;36m__get__\u001b[0;34m(self, instance, owner)\u001b[0m\n\u001b[1;32m    235\u001b[0m             \u001b[0;31m# this ensures that Series.str.<method> is well defined\u001b[0m\u001b[0;34m\u001b[0m\u001b[0;34m\u001b[0m\u001b[0m\n\u001b[1;32m    236\u001b[0m             \u001b[0;32mreturn\u001b[0m \u001b[0mself\u001b[0m\u001b[0;34m.\u001b[0m\u001b[0maccessor_cls\u001b[0m\u001b[0;34m\u001b[0m\u001b[0m\n\u001b[0;32m--> 237\u001b[0;31m         \u001b[0;32mreturn\u001b[0m \u001b[0mself\u001b[0m\u001b[0;34m.\u001b[0m\u001b[0mconstruct_accessor\u001b[0m\u001b[0;34m(\u001b[0m\u001b[0minstance\u001b[0m\u001b[0;34m)\u001b[0m\u001b[0;34m\u001b[0m\u001b[0m\n\u001b[0m\u001b[1;32m    238\u001b[0m \u001b[0;34m\u001b[0m\u001b[0m\n\u001b[1;32m    239\u001b[0m     \u001b[0;32mdef\u001b[0m \u001b[0m__set__\u001b[0m\u001b[0;34m(\u001b[0m\u001b[0mself\u001b[0m\u001b[0;34m,\u001b[0m \u001b[0minstance\u001b[0m\u001b[0;34m,\u001b[0m \u001b[0mvalue\u001b[0m\u001b[0;34m)\u001b[0m\u001b[0;34m:\u001b[0m\u001b[0;34m\u001b[0m\u001b[0m\n",
      "\u001b[0;32m/Users/hcross/anaconda/envs/pan/lib/python2.7/site-packages/pandas/core/strings.pyc\u001b[0m in \u001b[0;36m_make_str_accessor\u001b[0;34m(self)\u001b[0m\n\u001b[1;32m   1816\u001b[0m             \u001b[0;31m# (instead of test for object dtype), but that isn't practical for\u001b[0m\u001b[0;34m\u001b[0m\u001b[0;34m\u001b[0m\u001b[0m\n\u001b[1;32m   1817\u001b[0m             \u001b[0;31m# performance reasons until we have a str dtype (GH 9343)\u001b[0m\u001b[0;34m\u001b[0m\u001b[0;34m\u001b[0m\u001b[0m\n\u001b[0;32m-> 1818\u001b[0;31m             raise AttributeError(\"Can only use .str accessor with string \"\n\u001b[0m\u001b[1;32m   1819\u001b[0m                                  \u001b[0;34m\"values, which use np.object_ dtype in \"\u001b[0m\u001b[0;34m\u001b[0m\u001b[0m\n\u001b[1;32m   1820\u001b[0m                                  \"pandas\")\n",
      "\u001b[0;31mAttributeError\u001b[0m: Can only use .str accessor with string values, which use np.object_ dtype in pandas"
     ]
    }
   ],
   "source": [
    "test6 = testDf3[testDf3['sseq2'].str.contains('TTCTT')]"
   ]
  },
  {
   "cell_type": "code",
   "execution_count": 34,
   "metadata": {
    "collapsed": false
   },
   "outputs": [],
   "source": [
    "test7 = testDf3.sseq2.apply(str)"
   ]
  },
  {
   "cell_type": "code",
   "execution_count": 35,
   "metadata": {
    "collapsed": false
   },
   "outputs": [
    {
     "ename": "KeyError",
     "evalue": "'sseq2'",
     "output_type": "error",
     "traceback": [
      "\u001b[0;31m---------------------------------------------------------------------------\u001b[0m",
      "\u001b[0;31mKeyError\u001b[0m                                  Traceback (most recent call last)",
      "\u001b[0;32m<ipython-input-35-f5c167726ba7>\u001b[0m in \u001b[0;36m<module>\u001b[0;34m()\u001b[0m\n\u001b[0;32m----> 1\u001b[0;31m \u001b[0mtest6\u001b[0m \u001b[0;34m=\u001b[0m \u001b[0mtest7\u001b[0m\u001b[0;34m[\u001b[0m\u001b[0mtest7\u001b[0m\u001b[0;34m[\u001b[0m\u001b[0;34m'sseq2'\u001b[0m\u001b[0;34m]\u001b[0m\u001b[0;34m.\u001b[0m\u001b[0mstr\u001b[0m\u001b[0;34m.\u001b[0m\u001b[0mcontains\u001b[0m\u001b[0;34m(\u001b[0m\u001b[0;34m'TTCTT'\u001b[0m\u001b[0;34m)\u001b[0m\u001b[0;34m]\u001b[0m\u001b[0;34m\u001b[0m\u001b[0m\n\u001b[0m",
      "\u001b[0;32m/Users/hcross/anaconda/envs/pan/lib/python2.7/site-packages/pandas/core/series.pyc\u001b[0m in \u001b[0;36m__getitem__\u001b[0;34m(self, key)\u001b[0m\n\u001b[1;32m    581\u001b[0m         \u001b[0mkey\u001b[0m \u001b[0;34m=\u001b[0m \u001b[0mcom\u001b[0m\u001b[0;34m.\u001b[0m\u001b[0m_apply_if_callable\u001b[0m\u001b[0;34m(\u001b[0m\u001b[0mkey\u001b[0m\u001b[0;34m,\u001b[0m \u001b[0mself\u001b[0m\u001b[0;34m)\u001b[0m\u001b[0;34m\u001b[0m\u001b[0m\n\u001b[1;32m    582\u001b[0m         \u001b[0;32mtry\u001b[0m\u001b[0;34m:\u001b[0m\u001b[0;34m\u001b[0m\u001b[0m\n\u001b[0;32m--> 583\u001b[0;31m             \u001b[0mresult\u001b[0m \u001b[0;34m=\u001b[0m \u001b[0mself\u001b[0m\u001b[0;34m.\u001b[0m\u001b[0mindex\u001b[0m\u001b[0;34m.\u001b[0m\u001b[0mget_value\u001b[0m\u001b[0;34m(\u001b[0m\u001b[0mself\u001b[0m\u001b[0;34m,\u001b[0m \u001b[0mkey\u001b[0m\u001b[0;34m)\u001b[0m\u001b[0;34m\u001b[0m\u001b[0m\n\u001b[0m\u001b[1;32m    584\u001b[0m \u001b[0;34m\u001b[0m\u001b[0m\n\u001b[1;32m    585\u001b[0m             \u001b[0;32mif\u001b[0m \u001b[0;32mnot\u001b[0m \u001b[0mlib\u001b[0m\u001b[0;34m.\u001b[0m\u001b[0misscalar\u001b[0m\u001b[0;34m(\u001b[0m\u001b[0mresult\u001b[0m\u001b[0;34m)\u001b[0m\u001b[0;34m:\u001b[0m\u001b[0;34m\u001b[0m\u001b[0m\n",
      "\u001b[0;32m/Users/hcross/anaconda/envs/pan/lib/python2.7/site-packages/pandas/indexes/base.pyc\u001b[0m in \u001b[0;36mget_value\u001b[0;34m(self, series, key)\u001b[0m\n\u001b[1;32m   1978\u001b[0m         \u001b[0;32mtry\u001b[0m\u001b[0;34m:\u001b[0m\u001b[0;34m\u001b[0m\u001b[0m\n\u001b[1;32m   1979\u001b[0m             return self._engine.get_value(s, k,\n\u001b[0;32m-> 1980\u001b[0;31m                                           tz=getattr(series.dtype, 'tz', None))\n\u001b[0m\u001b[1;32m   1981\u001b[0m         \u001b[0;32mexcept\u001b[0m \u001b[0mKeyError\u001b[0m \u001b[0;32mas\u001b[0m \u001b[0me1\u001b[0m\u001b[0;34m:\u001b[0m\u001b[0;34m\u001b[0m\u001b[0m\n\u001b[1;32m   1982\u001b[0m             \u001b[0;32mif\u001b[0m \u001b[0mlen\u001b[0m\u001b[0;34m(\u001b[0m\u001b[0mself\u001b[0m\u001b[0;34m)\u001b[0m \u001b[0;34m>\u001b[0m \u001b[0;36m0\u001b[0m \u001b[0;32mand\u001b[0m \u001b[0mself\u001b[0m\u001b[0;34m.\u001b[0m\u001b[0minferred_type\u001b[0m \u001b[0;32min\u001b[0m \u001b[0;34m[\u001b[0m\u001b[0;34m'integer'\u001b[0m\u001b[0;34m,\u001b[0m \u001b[0;34m'boolean'\u001b[0m\u001b[0;34m]\u001b[0m\u001b[0;34m:\u001b[0m\u001b[0;34m\u001b[0m\u001b[0m\n",
      "\u001b[0;32mpandas/index.pyx\u001b[0m in \u001b[0;36mpandas.index.IndexEngine.get_value (pandas/index.c:3332)\u001b[0;34m()\u001b[0m\n",
      "\u001b[0;32mpandas/index.pyx\u001b[0m in \u001b[0;36mpandas.index.IndexEngine.get_value (pandas/index.c:3035)\u001b[0;34m()\u001b[0m\n",
      "\u001b[0;32mpandas/index.pyx\u001b[0m in \u001b[0;36mpandas.index.IndexEngine.get_loc (pandas/index.c:4084)\u001b[0;34m()\u001b[0m\n",
      "\u001b[0;31mKeyError\u001b[0m: 'sseq2'"
     ]
    }
   ],
   "source": [
    "test6 = test7[test7['sseq2'].str.contains('TTCTT')]"
   ]
  },
  {
   "cell_type": "code",
   "execution_count": 36,
   "metadata": {
    "collapsed": false
   },
   "outputs": [
    {
     "data": {
      "text/plain": [
       "0    nan\n",
       "1    nan\n",
       "2    nan\n",
       "3    nan\n",
       "4    nan\n",
       "5    nan\n",
       "6    nan\n",
       "7    nan\n",
       "8    nan\n",
       "9    nan\n",
       "Name: sseq2, dtype: object"
      ]
     },
     "execution_count": 36,
     "metadata": {},
     "output_type": "execute_result"
    }
   ],
   "source": [
    "test7"
   ]
  },
  {
   "cell_type": "code",
   "execution_count": null,
   "metadata": {
    "collapsed": true
   },
   "outputs": [],
   "source": []
  }
 ],
 "metadata": {
  "anaconda-cloud": {},
  "kernelspec": {
   "display_name": "Python [default]",
   "language": "python",
   "name": "python2"
  },
  "language_info": {
   "codemirror_mode": {
    "name": "ipython",
    "version": 2
   },
   "file_extension": ".py",
   "mimetype": "text/x-python",
   "name": "python",
   "nbconvert_exporter": "python",
   "pygments_lexer": "ipython2",
   "version": "2.7.12"
  }
 },
 "nbformat": 4,
 "nbformat_minor": 1
}
