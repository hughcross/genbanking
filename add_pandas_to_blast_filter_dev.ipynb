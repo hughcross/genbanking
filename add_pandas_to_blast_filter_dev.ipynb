{
 "cells": [
  {
   "cell_type": "markdown",
   "metadata": {},
   "source": [
    "## Convert filter_blast function to use pandas"
   ]
  },
  {
   "cell_type": "code",
   "execution_count": 1,
   "metadata": {
    "collapsed": true
   },
   "outputs": [],
   "source": [
    "import pandas as pd\n",
    "import numpy as np"
   ]
  },
  {
   "cell_type": "code",
   "execution_count": 2,
   "metadata": {
    "collapsed": false
   },
   "outputs": [],
   "source": [
    "import sys\n",
    "sys.path.append('/Users/hcross/analysis/git_projects/genbanking/gb_parsers/')\n",
    "from blast_parsers import blast_parser"
   ]
  },
  {
   "cell_type": "code",
   "execution_count": 4,
   "metadata": {
    "collapsed": true
   },
   "outputs": [],
   "source": [
    "# now try to re-parse the small file\n",
    "blast_tab = blast_parser('example_blast_output_default_format.txt')"
   ]
  },
  {
   "cell_type": "code",
   "execution_count": 5,
   "metadata": {
    "collapsed": false
   },
   "outputs": [
    {
     "data": {
      "text/html": [
       "<div>\n",
       "<table border=\"1\" class=\"dataframe\">\n",
       "  <thead>\n",
       "    <tr style=\"text-align: right;\">\n",
       "      <th></th>\n",
       "      <th>qseqid</th>\n",
       "      <th>sseqid</th>\n",
       "      <th>pident</th>\n",
       "      <th>length</th>\n",
       "      <th>mismatch</th>\n",
       "      <th>gapopen</th>\n",
       "      <th>qstart</th>\n",
       "      <th>qend</th>\n",
       "      <th>sstart</th>\n",
       "      <th>send</th>\n",
       "      <th>evalue</th>\n",
       "      <th>bitscore</th>\n",
       "    </tr>\n",
       "  </thead>\n",
       "  <tbody>\n",
       "    <tr>\n",
       "      <th>0</th>\n",
       "      <td>MA_19953_MA_19953.g2.t1</td>\n",
       "      <td>gi|71153422|sp|Q9LLL8.1|SBT4E_ARATH</td>\n",
       "      <td>35.537</td>\n",
       "      <td>121</td>\n",
       "      <td>65</td>\n",
       "      <td>5</td>\n",
       "      <td>280</td>\n",
       "      <td>394</td>\n",
       "      <td>348</td>\n",
       "      <td>461</td>\n",
       "      <td>8.070000e-07</td>\n",
       "      <td>54.7</td>\n",
       "    </tr>\n",
       "    <tr>\n",
       "      <th>1</th>\n",
       "      <td>MA_19953_MA_19953.g3.t1</td>\n",
       "      <td>gi|60392921|sp|P11369.2|LORF2_MOUSE</td>\n",
       "      <td>37.681</td>\n",
       "      <td>69</td>\n",
       "      <td>42</td>\n",
       "      <td>1</td>\n",
       "      <td>209</td>\n",
       "      <td>276</td>\n",
       "      <td>510</td>\n",
       "      <td>578</td>\n",
       "      <td>3.920000e-05</td>\n",
       "      <td>50.1</td>\n",
       "    </tr>\n",
       "    <tr>\n",
       "      <th>2</th>\n",
       "      <td>MA_19953_MA_19953.g4.t1</td>\n",
       "      <td>gi|141475|sp|P14381.1|YTX2_XENLA</td>\n",
       "      <td>22.966</td>\n",
       "      <td>762</td>\n",
       "      <td>480</td>\n",
       "      <td>22</td>\n",
       "      <td>328</td>\n",
       "      <td>1012</td>\n",
       "      <td>128</td>\n",
       "      <td>859</td>\n",
       "      <td>2.240000e-35</td>\n",
       "      <td>150.0</td>\n",
       "    </tr>\n",
       "    <tr>\n",
       "      <th>3</th>\n",
       "      <td>MA_19953_MA_19953.g5.t1</td>\n",
       "      <td>gi|81615471|sp|Q6LU24.1|PUR4_PHOPR</td>\n",
       "      <td>31.868</td>\n",
       "      <td>91</td>\n",
       "      <td>57</td>\n",
       "      <td>2</td>\n",
       "      <td>13</td>\n",
       "      <td>98</td>\n",
       "      <td>971</td>\n",
       "      <td>1061</td>\n",
       "      <td>2.400000e-02</td>\n",
       "      <td>40.0</td>\n",
       "    </tr>\n",
       "    <tr>\n",
       "      <th>4</th>\n",
       "      <td>MA_19953_MA_19953.g6.t1</td>\n",
       "      <td>gi|81960279|sp|Q914H8.1|Y054_SIFVH</td>\n",
       "      <td>19.880</td>\n",
       "      <td>166</td>\n",
       "      <td>122</td>\n",
       "      <td>4</td>\n",
       "      <td>17</td>\n",
       "      <td>175</td>\n",
       "      <td>176</td>\n",
       "      <td>337</td>\n",
       "      <td>9.800000e-02</td>\n",
       "      <td>37.7</td>\n",
       "    </tr>\n",
       "  </tbody>\n",
       "</table>\n",
       "</div>"
      ],
      "text/plain": [
       "                    qseqid                               sseqid  pident  \\\n",
       "0  MA_19953_MA_19953.g2.t1  gi|71153422|sp|Q9LLL8.1|SBT4E_ARATH  35.537   \n",
       "1  MA_19953_MA_19953.g3.t1  gi|60392921|sp|P11369.2|LORF2_MOUSE  37.681   \n",
       "2  MA_19953_MA_19953.g4.t1     gi|141475|sp|P14381.1|YTX2_XENLA  22.966   \n",
       "3  MA_19953_MA_19953.g5.t1   gi|81615471|sp|Q6LU24.1|PUR4_PHOPR  31.868   \n",
       "4  MA_19953_MA_19953.g6.t1   gi|81960279|sp|Q914H8.1|Y054_SIFVH  19.880   \n",
       "\n",
       "   length  mismatch  gapopen  qstart  qend  sstart  send        evalue  \\\n",
       "0     121        65        5     280   394     348   461  8.070000e-07   \n",
       "1      69        42        1     209   276     510   578  3.920000e-05   \n",
       "2     762       480       22     328  1012     128   859  2.240000e-35   \n",
       "3      91        57        2      13    98     971  1061  2.400000e-02   \n",
       "4     166       122        4      17   175     176   337  9.800000e-02   \n",
       "\n",
       "   bitscore  \n",
       "0      54.7  \n",
       "1      50.1  \n",
       "2     150.0  \n",
       "3      40.0  \n",
       "4      37.7  "
      ]
     },
     "execution_count": 5,
     "metadata": {},
     "output_type": "execute_result"
    }
   ],
   "source": [
    "blast_tab.head()"
   ]
  },
  {
   "cell_type": "markdown",
   "metadata": {},
   "source": [
    "### Build a function that includes the variables from original, but adding pandas function\n",
    "\n",
    "#### Use commands like these:\n",
    "\n",
    "```python\n",
    "blast2 = blast_table.loc[blast_table['pident'] > 35]\n",
    "\n",
    "blast3 = blast_table[(blast_table['pident'] > 35) & (blast_table['length'] > 100)]\n",
    "```\n"
   ]
  },
  {
   "cell_type": "code",
   "execution_count": 10,
   "metadata": {
    "collapsed": false
   },
   "outputs": [
    {
     "ename": "SyntaxError",
     "evalue": "invalid syntax (<ipython-input-10-c8530eaa4353>, line 2)",
     "output_type": "error",
     "traceback": [
      "\u001b[0;36m  File \u001b[0;32m\"<ipython-input-10-c8530eaa4353>\"\u001b[0;36m, line \u001b[0;32m2\u001b[0m\n\u001b[0;31m    blast2 = blast_tab.loc[blast_tab['pident'] %s 35] % (great)\u001b[0m\n\u001b[0m                                                   ^\u001b[0m\n\u001b[0;31mSyntaxError\u001b[0m\u001b[0;31m:\u001b[0m invalid syntax\n"
     ]
    }
   ],
   "source": [
    "great = '>'\n",
    "blast2 = blast_tab.loc[blast_tab['pident'] %s 35] % (great)"
   ]
  },
  {
   "cell_type": "code",
   "execution_count": 11,
   "metadata": {
    "collapsed": false
   },
   "outputs": [],
   "source": [
    "string = \"blast2 = blast_tab.loc[blast_tab['pident'] > 35]\"\n",
    "exec(string)"
   ]
  },
  {
   "cell_type": "code",
   "execution_count": 12,
   "metadata": {
    "collapsed": false
   },
   "outputs": [
    {
     "data": {
      "text/html": [
       "<div>\n",
       "<table border=\"1\" class=\"dataframe\">\n",
       "  <thead>\n",
       "    <tr style=\"text-align: right;\">\n",
       "      <th></th>\n",
       "      <th>qseqid</th>\n",
       "      <th>sseqid</th>\n",
       "      <th>pident</th>\n",
       "      <th>length</th>\n",
       "      <th>mismatch</th>\n",
       "      <th>gapopen</th>\n",
       "      <th>qstart</th>\n",
       "      <th>qend</th>\n",
       "      <th>sstart</th>\n",
       "      <th>send</th>\n",
       "      <th>evalue</th>\n",
       "      <th>bitscore</th>\n",
       "    </tr>\n",
       "  </thead>\n",
       "  <tbody>\n",
       "    <tr>\n",
       "      <th>0</th>\n",
       "      <td>MA_19953_MA_19953.g2.t1</td>\n",
       "      <td>gi|71153422|sp|Q9LLL8.1|SBT4E_ARATH</td>\n",
       "      <td>35.537</td>\n",
       "      <td>121</td>\n",
       "      <td>65</td>\n",
       "      <td>5</td>\n",
       "      <td>280</td>\n",
       "      <td>394</td>\n",
       "      <td>348</td>\n",
       "      <td>461</td>\n",
       "      <td>8.070000e-07</td>\n",
       "      <td>54.7</td>\n",
       "    </tr>\n",
       "    <tr>\n",
       "      <th>1</th>\n",
       "      <td>MA_19953_MA_19953.g3.t1</td>\n",
       "      <td>gi|60392921|sp|P11369.2|LORF2_MOUSE</td>\n",
       "      <td>37.681</td>\n",
       "      <td>69</td>\n",
       "      <td>42</td>\n",
       "      <td>1</td>\n",
       "      <td>209</td>\n",
       "      <td>276</td>\n",
       "      <td>510</td>\n",
       "      <td>578</td>\n",
       "      <td>3.920000e-05</td>\n",
       "      <td>50.1</td>\n",
       "    </tr>\n",
       "    <tr>\n",
       "      <th>5</th>\n",
       "      <td>MA_19953_MA_19953.g7.t1</td>\n",
       "      <td>gi|130582|sp|P10978.1|POLX_TOBAC</td>\n",
       "      <td>64.103</td>\n",
       "      <td>39</td>\n",
       "      <td>14</td>\n",
       "      <td>0</td>\n",
       "      <td>114</td>\n",
       "      <td>152</td>\n",
       "      <td>530</td>\n",
       "      <td>568</td>\n",
       "      <td>2.210000e-07</td>\n",
       "      <td>55.1</td>\n",
       "    </tr>\n",
       "    <tr>\n",
       "      <th>6</th>\n",
       "      <td>MA_19953_MA_19953.g7.t1</td>\n",
       "      <td>gi|130582|sp|P10978.1|POLX_TOBAC</td>\n",
       "      <td>50.000</td>\n",
       "      <td>40</td>\n",
       "      <td>20</td>\n",
       "      <td>0</td>\n",
       "      <td>52</td>\n",
       "      <td>91</td>\n",
       "      <td>295</td>\n",
       "      <td>334</td>\n",
       "      <td>2.000000e-03</td>\n",
       "      <td>43.5</td>\n",
       "    </tr>\n",
       "    <tr>\n",
       "      <th>9</th>\n",
       "      <td>MA_19953_MA_19953.g9.t1</td>\n",
       "      <td>gi|135915|sp|P28493.1|PR5_ARATH</td>\n",
       "      <td>65.948</td>\n",
       "      <td>232</td>\n",
       "      <td>75</td>\n",
       "      <td>4</td>\n",
       "      <td>1</td>\n",
       "      <td>232</td>\n",
       "      <td>12</td>\n",
       "      <td>239</td>\n",
       "      <td>5.910000e-99</td>\n",
       "      <td>294.0</td>\n",
       "    </tr>\n",
       "  </tbody>\n",
       "</table>\n",
       "</div>"
      ],
      "text/plain": [
       "                    qseqid                               sseqid  pident  \\\n",
       "0  MA_19953_MA_19953.g2.t1  gi|71153422|sp|Q9LLL8.1|SBT4E_ARATH  35.537   \n",
       "1  MA_19953_MA_19953.g3.t1  gi|60392921|sp|P11369.2|LORF2_MOUSE  37.681   \n",
       "5  MA_19953_MA_19953.g7.t1     gi|130582|sp|P10978.1|POLX_TOBAC  64.103   \n",
       "6  MA_19953_MA_19953.g7.t1     gi|130582|sp|P10978.1|POLX_TOBAC  50.000   \n",
       "9  MA_19953_MA_19953.g9.t1      gi|135915|sp|P28493.1|PR5_ARATH  65.948   \n",
       "\n",
       "   length  mismatch  gapopen  qstart  qend  sstart  send        evalue  \\\n",
       "0     121        65        5     280   394     348   461  8.070000e-07   \n",
       "1      69        42        1     209   276     510   578  3.920000e-05   \n",
       "5      39        14        0     114   152     530   568  2.210000e-07   \n",
       "6      40        20        0      52    91     295   334  2.000000e-03   \n",
       "9     232        75        4       1   232      12   239  5.910000e-99   \n",
       "\n",
       "   bitscore  \n",
       "0      54.7  \n",
       "1      50.1  \n",
       "5      55.1  \n",
       "6      43.5  \n",
       "9     294.0  "
      ]
     },
     "execution_count": 12,
     "metadata": {},
     "output_type": "execute_result"
    }
   ],
   "source": [
    "blast2.head()"
   ]
  },
  {
   "cell_type": "markdown",
   "metadata": {},
   "source": [
    "**In order to be flexible with testing fields, have to create strings, and then convert it to command using exec(command_string)** \n",
    "found here:\n",
    "\n",
    "\n",
    "http://stackoverflow.com/questions/701802/how-do-i-execute-a-string-containing-python-code-in-python"
   ]
  },
  {
   "cell_type": "code",
   "execution_count": 9,
   "metadata": {
    "collapsed": true
   },
   "outputs": [],
   "source": [
    "def filter_blast(blastDF, blast_parameters):\n",
    "    \"\"\"Filter a blast result dictionary based on variable parameters using pandas\"\"\"\n",
    "    ## >> have to add more to following\n",
    "    field_match = {'SUB_LENGTH':'slen','MIN_QSTART':'qstart','MAX_QSTART':'qstart','MIN_QEND':'qend','MAX_QEND':'qend','MIN_SEND':'send','MAX_SEND':'send','MIN_BITSCORE':'bitscore','MIN_POSITIVE':'positive','MAX_GAPOPEN':'gapopen','MAX_GAPS':'gaps','IN_TITLE':'stitle','IN_SSEQ':'sseq','MIN_SSTART':'sstart','MAX_SSTART':'sstart','MIN_QCOV':'qcovs','MIN_LENGTH':'length','MIN_PCT_ID':'pident','MAX_MISMATCH':'mismatch','MAX_EVALUE':'evalue','IN_SUBJECT_ID':'sseqid'}\n",
    "    mins = ['MIN_LENGTH','MIN_PCT_ID','MIN_SSTART','MIN_QCOV','SUB_LENGTH','MIN_QSTART','MIN_QEND','MIN_SEND','MIN_BITSCORE','MIN_POSITIVE'] \n",
    "    maxes = ['MAX_MISMATCH','MAX_EVALUE','MAX_SSTART','MAX_QSTART','MAX_QEND','MAX_SEND','MAX_GAPOPEN','MAX_GAPS'] \n",
    "    containers = ['IN_SUBJECT_ID','IN_TITLE','IN_SSEQ']\n",
    "    filtered_blast = {}\n",
    "    blast_parameters.pop('FORMAT')\n",
    "    num_conditions = len(blast_parameters)\n",
    "    # for now have to build it as a string and then run \n",
    "    string_list = []\n",
    "    for k,v in blast_parameters.iteritems():\n",
    "        # blast2 = blast_table.loc[blast_table['pident'] > 35]\n",
    "        blast_field = field_match[k]\n",
    "        string = \"blastDF[blast_field]\"\n",
    "        if k in mins:\n",
    "            #string = string + \"> \"+v+\"]\"\n",
    "            string = string + \"> %s\" %(v)\n",
    "            #if hit_dict[blast_field] > v:   \n",
    "        elif k in maxes:\n",
    "            string = string + \"< %s\" %(v)\n",
    "            #if hit_dict[blast_field] < v:\n",
    "                \n",
    "        elif k in containers:\n",
    "            # bb5 = bb[bb['stitle'].str.contains('Maireana')]\n",
    "            #string = string+\".str.contains(\"+v+\")]\"\n",
    "            string = string+\".str.contains('%s')\" % (v)\n",
    "            #if v in hit_dict[blast_field]: # need to fix this, was in v\n",
    "        string_list.append(string)\n",
    "    if num_conditions == 1:\n",
    "        cmd_string = string_list[0]\n",
    "        final_string = \"filt_blastDF = blastDF[\"+cmd_string+\"]\"\n",
    "        exec(final_string)\n",
    "        \n",
    "    # for multiple conditions:\n",
    "    #blast3 = blast_table[(blast_table['pident'] > 35) & (blast_table['length'] > 100)]\n",
    "    else:\n",
    "        initial = \"filt_blastDF = blastDF[\"\n",
    "        for cmd in string_list:\n",
    "            new_string = \"(\"+cmd+\")\"\n",
    "            initial = initial+new_string+\"&\"\n",
    "        semifinal = initial[:-1]\n",
    "        final = semifinal+\"]\"\n",
    "        exec(final)\n",
    "    return filt_blastDF\n",
    "    "
   ]
  },
  {
   "cell_type": "code",
   "execution_count": 85,
   "metadata": {
    "collapsed": true
   },
   "outputs": [],
   "source": [
    "# try a simple one \n",
    "para_dict = {'MIN_LENGTH':100, 'FORMAT':'default'}"
   ]
  },
  {
   "cell_type": "code",
   "execution_count": 86,
   "metadata": {
    "collapsed": false
   },
   "outputs": [],
   "source": [
    "filt1 = filter_blast(blast_tab, para_dict)"
   ]
  },
  {
   "cell_type": "code",
   "execution_count": 87,
   "metadata": {
    "collapsed": false
   },
   "outputs": [
    {
     "data": {
      "text/html": [
       "<div>\n",
       "<table border=\"1\" class=\"dataframe\">\n",
       "  <thead>\n",
       "    <tr style=\"text-align: right;\">\n",
       "      <th></th>\n",
       "      <th>qseqid</th>\n",
       "      <th>sseqid</th>\n",
       "      <th>pident</th>\n",
       "      <th>length</th>\n",
       "      <th>mismatch</th>\n",
       "      <th>gapopen</th>\n",
       "      <th>qstart</th>\n",
       "      <th>qend</th>\n",
       "      <th>sstart</th>\n",
       "      <th>send</th>\n",
       "      <th>evalue</th>\n",
       "      <th>bitscore</th>\n",
       "    </tr>\n",
       "  </thead>\n",
       "  <tbody>\n",
       "    <tr>\n",
       "      <th>0</th>\n",
       "      <td>MA_19953_MA_19953.g2.t1</td>\n",
       "      <td>gi|71153422|sp|Q9LLL8.1|SBT4E_ARATH</td>\n",
       "      <td>35.537</td>\n",
       "      <td>121</td>\n",
       "      <td>65</td>\n",
       "      <td>5</td>\n",
       "      <td>280</td>\n",
       "      <td>394</td>\n",
       "      <td>348</td>\n",
       "      <td>461</td>\n",
       "      <td>8.070000e-07</td>\n",
       "      <td>54.7</td>\n",
       "    </tr>\n",
       "    <tr>\n",
       "      <th>2</th>\n",
       "      <td>MA_19953_MA_19953.g4.t1</td>\n",
       "      <td>gi|141475|sp|P14381.1|YTX2_XENLA</td>\n",
       "      <td>22.966</td>\n",
       "      <td>762</td>\n",
       "      <td>480</td>\n",
       "      <td>22</td>\n",
       "      <td>328</td>\n",
       "      <td>1012</td>\n",
       "      <td>128</td>\n",
       "      <td>859</td>\n",
       "      <td>2.240000e-35</td>\n",
       "      <td>150.0</td>\n",
       "    </tr>\n",
       "    <tr>\n",
       "      <th>4</th>\n",
       "      <td>MA_19953_MA_19953.g6.t1</td>\n",
       "      <td>gi|81960279|sp|Q914H8.1|Y054_SIFVH</td>\n",
       "      <td>19.880</td>\n",
       "      <td>166</td>\n",
       "      <td>122</td>\n",
       "      <td>4</td>\n",
       "      <td>17</td>\n",
       "      <td>175</td>\n",
       "      <td>176</td>\n",
       "      <td>337</td>\n",
       "      <td>9.800000e-02</td>\n",
       "      <td>37.7</td>\n",
       "    </tr>\n",
       "    <tr>\n",
       "      <th>9</th>\n",
       "      <td>MA_19953_MA_19953.g9.t1</td>\n",
       "      <td>gi|135915|sp|P28493.1|PR5_ARATH</td>\n",
       "      <td>65.948</td>\n",
       "      <td>232</td>\n",
       "      <td>75</td>\n",
       "      <td>4</td>\n",
       "      <td>1</td>\n",
       "      <td>232</td>\n",
       "      <td>12</td>\n",
       "      <td>239</td>\n",
       "      <td>5.910000e-99</td>\n",
       "      <td>294.0</td>\n",
       "    </tr>\n",
       "    <tr>\n",
       "      <th>13</th>\n",
       "      <td>MA_10432594_MA_10432594.g13.t1</td>\n",
       "      <td>gi|134034966|sp|Q99315.3|YG31B_YEAST</td>\n",
       "      <td>28.252</td>\n",
       "      <td>1207</td>\n",
       "      <td>672</td>\n",
       "      <td>27</td>\n",
       "      <td>418</td>\n",
       "      <td>1453</td>\n",
       "      <td>267</td>\n",
       "      <td>1450</td>\n",
       "      <td>8.210000e-132</td>\n",
       "      <td>455.0</td>\n",
       "    </tr>\n",
       "  </tbody>\n",
       "</table>\n",
       "</div>"
      ],
      "text/plain": [
       "                            qseqid                                sseqid  \\\n",
       "0          MA_19953_MA_19953.g2.t1   gi|71153422|sp|Q9LLL8.1|SBT4E_ARATH   \n",
       "2          MA_19953_MA_19953.g4.t1      gi|141475|sp|P14381.1|YTX2_XENLA   \n",
       "4          MA_19953_MA_19953.g6.t1    gi|81960279|sp|Q914H8.1|Y054_SIFVH   \n",
       "9          MA_19953_MA_19953.g9.t1       gi|135915|sp|P28493.1|PR5_ARATH   \n",
       "13  MA_10432594_MA_10432594.g13.t1  gi|134034966|sp|Q99315.3|YG31B_YEAST   \n",
       "\n",
       "    pident  length  mismatch  gapopen  qstart  qend  sstart  send  \\\n",
       "0   35.537     121        65        5     280   394     348   461   \n",
       "2   22.966     762       480       22     328  1012     128   859   \n",
       "4   19.880     166       122        4      17   175     176   337   \n",
       "9   65.948     232        75        4       1   232      12   239   \n",
       "13  28.252    1207       672       27     418  1453     267  1450   \n",
       "\n",
       "           evalue  bitscore  \n",
       "0    8.070000e-07      54.7  \n",
       "2    2.240000e-35     150.0  \n",
       "4    9.800000e-02      37.7  \n",
       "9    5.910000e-99     294.0  \n",
       "13  8.210000e-132     455.0  "
      ]
     },
     "execution_count": 87,
     "metadata": {},
     "output_type": "execute_result"
    }
   ],
   "source": [
    "filt1.head()"
   ]
  },
  {
   "cell_type": "code",
   "execution_count": 64,
   "metadata": {
    "collapsed": true
   },
   "outputs": [],
   "source": [
    "para_dict2 = {'MAX_MISMATCH':30, 'FORMAT':'default'}"
   ]
  },
  {
   "cell_type": "code",
   "execution_count": 65,
   "metadata": {
    "collapsed": false
   },
   "outputs": [
    {
     "name": "stdout",
     "output_type": "stream",
     "text": [
      "filt_blastDF = blastDF[blastDF[blast_field]< 30]\n"
     ]
    }
   ],
   "source": [
    "filt2 = filter_blast(blast_tab, para_dict2)"
   ]
  },
  {
   "cell_type": "code",
   "execution_count": 66,
   "metadata": {
    "collapsed": false
   },
   "outputs": [
    {
     "data": {
      "text/html": [
       "<div>\n",
       "<table border=\"1\" class=\"dataframe\">\n",
       "  <thead>\n",
       "    <tr style=\"text-align: right;\">\n",
       "      <th></th>\n",
       "      <th>qseqid</th>\n",
       "      <th>sseqid</th>\n",
       "      <th>pident</th>\n",
       "      <th>length</th>\n",
       "      <th>mismatch</th>\n",
       "      <th>gapopen</th>\n",
       "      <th>qstart</th>\n",
       "      <th>qend</th>\n",
       "      <th>sstart</th>\n",
       "      <th>send</th>\n",
       "      <th>evalue</th>\n",
       "      <th>bitscore</th>\n",
       "    </tr>\n",
       "  </thead>\n",
       "  <tbody>\n",
       "    <tr>\n",
       "      <th>5</th>\n",
       "      <td>MA_19953_MA_19953.g7.t1</td>\n",
       "      <td>gi|130582|sp|P10978.1|POLX_TOBAC</td>\n",
       "      <td>64.103</td>\n",
       "      <td>39</td>\n",
       "      <td>14</td>\n",
       "      <td>0</td>\n",
       "      <td>114</td>\n",
       "      <td>152</td>\n",
       "      <td>530</td>\n",
       "      <td>568</td>\n",
       "      <td>2.210000e-07</td>\n",
       "      <td>55.1</td>\n",
       "    </tr>\n",
       "    <tr>\n",
       "      <th>6</th>\n",
       "      <td>MA_19953_MA_19953.g7.t1</td>\n",
       "      <td>gi|130582|sp|P10978.1|POLX_TOBAC</td>\n",
       "      <td>50.000</td>\n",
       "      <td>40</td>\n",
       "      <td>20</td>\n",
       "      <td>0</td>\n",
       "      <td>52</td>\n",
       "      <td>91</td>\n",
       "      <td>295</td>\n",
       "      <td>334</td>\n",
       "      <td>2.000000e-03</td>\n",
       "      <td>43.5</td>\n",
       "    </tr>\n",
       "    <tr>\n",
       "      <th>11</th>\n",
       "      <td>MA_10434223_MA_10434223.g11.t1</td>\n",
       "      <td>gi|296439825|sp|A7MC48.2|SHSA9_XENTR</td>\n",
       "      <td>42.857</td>\n",
       "      <td>28</td>\n",
       "      <td>16</td>\n",
       "      <td>0</td>\n",
       "      <td>116</td>\n",
       "      <td>143</td>\n",
       "      <td>1</td>\n",
       "      <td>28</td>\n",
       "      <td>5.000000e+00</td>\n",
       "      <td>30.4</td>\n",
       "    </tr>\n",
       "    <tr>\n",
       "      <th>12</th>\n",
       "      <td>MA_10434223_MA_10434223.g12.t1</td>\n",
       "      <td>gi|11135132|sp|O65049.1|TRXH_PICMA</td>\n",
       "      <td>98.980</td>\n",
       "      <td>98</td>\n",
       "      <td>1</td>\n",
       "      <td>0</td>\n",
       "      <td>18</td>\n",
       "      <td>115</td>\n",
       "      <td>28</td>\n",
       "      <td>125</td>\n",
       "      <td>4.660000e-63</td>\n",
       "      <td>194.0</td>\n",
       "    </tr>\n",
       "    <tr>\n",
       "      <th>19</th>\n",
       "      <td>MA_10432594_MA_10432594.g18.t1</td>\n",
       "      <td>gi|75215641|sp|Q9XI47.1|SHH1_ARATH</td>\n",
       "      <td>38.462</td>\n",
       "      <td>26</td>\n",
       "      <td>15</td>\n",
       "      <td>1</td>\n",
       "      <td>3</td>\n",
       "      <td>27</td>\n",
       "      <td>65</td>\n",
       "      <td>90</td>\n",
       "      <td>5.200000e+00</td>\n",
       "      <td>28.5</td>\n",
       "    </tr>\n",
       "  </tbody>\n",
       "</table>\n",
       "</div>"
      ],
      "text/plain": [
       "                            qseqid                                sseqid  \\\n",
       "5          MA_19953_MA_19953.g7.t1      gi|130582|sp|P10978.1|POLX_TOBAC   \n",
       "6          MA_19953_MA_19953.g7.t1      gi|130582|sp|P10978.1|POLX_TOBAC   \n",
       "11  MA_10434223_MA_10434223.g11.t1  gi|296439825|sp|A7MC48.2|SHSA9_XENTR   \n",
       "12  MA_10434223_MA_10434223.g12.t1    gi|11135132|sp|O65049.1|TRXH_PICMA   \n",
       "19  MA_10432594_MA_10432594.g18.t1    gi|75215641|sp|Q9XI47.1|SHH1_ARATH   \n",
       "\n",
       "    pident  length  mismatch  gapopen  qstart  qend  sstart  send  \\\n",
       "5   64.103      39        14        0     114   152     530   568   \n",
       "6   50.000      40        20        0      52    91     295   334   \n",
       "11  42.857      28        16        0     116   143       1    28   \n",
       "12  98.980      98         1        0      18   115      28   125   \n",
       "19  38.462      26        15        1       3    27      65    90   \n",
       "\n",
       "          evalue  bitscore  \n",
       "5   2.210000e-07      55.1  \n",
       "6   2.000000e-03      43.5  \n",
       "11  5.000000e+00      30.4  \n",
       "12  4.660000e-63     194.0  \n",
       "19  5.200000e+00      28.5  "
      ]
     },
     "execution_count": 66,
     "metadata": {},
     "output_type": "execute_result"
    }
   ],
   "source": [
    "filt2.head()"
   ]
  },
  {
   "cell_type": "code",
   "execution_count": 88,
   "metadata": {
    "collapsed": true
   },
   "outputs": [],
   "source": [
    "para_dict3 = {'IN_SUBJECT_ID': 'ARATH', 'FORMAT':'default'}"
   ]
  },
  {
   "cell_type": "code",
   "execution_count": 89,
   "metadata": {
    "collapsed": false
   },
   "outputs": [],
   "source": [
    "filt3 = filter_blast(blast_tab, para_dict3)"
   ]
  },
  {
   "cell_type": "code",
   "execution_count": 90,
   "metadata": {
    "collapsed": false
   },
   "outputs": [
    {
     "data": {
      "text/html": [
       "<div>\n",
       "<table border=\"1\" class=\"dataframe\">\n",
       "  <thead>\n",
       "    <tr style=\"text-align: right;\">\n",
       "      <th></th>\n",
       "      <th>qseqid</th>\n",
       "      <th>sseqid</th>\n",
       "      <th>pident</th>\n",
       "      <th>length</th>\n",
       "      <th>mismatch</th>\n",
       "      <th>gapopen</th>\n",
       "      <th>qstart</th>\n",
       "      <th>qend</th>\n",
       "      <th>sstart</th>\n",
       "      <th>send</th>\n",
       "      <th>evalue</th>\n",
       "      <th>bitscore</th>\n",
       "    </tr>\n",
       "  </thead>\n",
       "  <tbody>\n",
       "    <tr>\n",
       "      <th>0</th>\n",
       "      <td>MA_19953_MA_19953.g2.t1</td>\n",
       "      <td>gi|71153422|sp|Q9LLL8.1|SBT4E_ARATH</td>\n",
       "      <td>35.537</td>\n",
       "      <td>121</td>\n",
       "      <td>65</td>\n",
       "      <td>5</td>\n",
       "      <td>280</td>\n",
       "      <td>394</td>\n",
       "      <td>348</td>\n",
       "      <td>461</td>\n",
       "      <td>8.070000e-07</td>\n",
       "      <td>54.7</td>\n",
       "    </tr>\n",
       "    <tr>\n",
       "      <th>9</th>\n",
       "      <td>MA_19953_MA_19953.g9.t1</td>\n",
       "      <td>gi|135915|sp|P28493.1|PR5_ARATH</td>\n",
       "      <td>65.948</td>\n",
       "      <td>232</td>\n",
       "      <td>75</td>\n",
       "      <td>4</td>\n",
       "      <td>1</td>\n",
       "      <td>232</td>\n",
       "      <td>12</td>\n",
       "      <td>239</td>\n",
       "      <td>5.910000e-99</td>\n",
       "      <td>294.0</td>\n",
       "    </tr>\n",
       "    <tr>\n",
       "      <th>17</th>\n",
       "      <td>MA_10432594_MA_10432594.g17.t1</td>\n",
       "      <td>gi|75154272|sp|Q8L817.1|ATCA7_ARATH</td>\n",
       "      <td>51.685</td>\n",
       "      <td>178</td>\n",
       "      <td>85</td>\n",
       "      <td>1</td>\n",
       "      <td>44</td>\n",
       "      <td>220</td>\n",
       "      <td>36</td>\n",
       "      <td>213</td>\n",
       "      <td>2.070000e-62</td>\n",
       "      <td>206.0</td>\n",
       "    </tr>\n",
       "    <tr>\n",
       "      <th>18</th>\n",
       "      <td>MA_10432594_MA_10432594.g17.t1</td>\n",
       "      <td>gi|75154272|sp|Q8L817.1|ATCA7_ARATH</td>\n",
       "      <td>45.038</td>\n",
       "      <td>131</td>\n",
       "      <td>54</td>\n",
       "      <td>1</td>\n",
       "      <td>219</td>\n",
       "      <td>331</td>\n",
       "      <td>143</td>\n",
       "      <td>273</td>\n",
       "      <td>2.070000e-30</td>\n",
       "      <td>121.0</td>\n",
       "    </tr>\n",
       "    <tr>\n",
       "      <th>19</th>\n",
       "      <td>MA_10432594_MA_10432594.g18.t1</td>\n",
       "      <td>gi|75215641|sp|Q9XI47.1|SHH1_ARATH</td>\n",
       "      <td>38.462</td>\n",
       "      <td>26</td>\n",
       "      <td>15</td>\n",
       "      <td>1</td>\n",
       "      <td>3</td>\n",
       "      <td>27</td>\n",
       "      <td>65</td>\n",
       "      <td>90</td>\n",
       "      <td>5.200000e+00</td>\n",
       "      <td>28.5</td>\n",
       "    </tr>\n",
       "  </tbody>\n",
       "</table>\n",
       "</div>"
      ],
      "text/plain": [
       "                            qseqid                               sseqid  \\\n",
       "0          MA_19953_MA_19953.g2.t1  gi|71153422|sp|Q9LLL8.1|SBT4E_ARATH   \n",
       "9          MA_19953_MA_19953.g9.t1      gi|135915|sp|P28493.1|PR5_ARATH   \n",
       "17  MA_10432594_MA_10432594.g17.t1  gi|75154272|sp|Q8L817.1|ATCA7_ARATH   \n",
       "18  MA_10432594_MA_10432594.g17.t1  gi|75154272|sp|Q8L817.1|ATCA7_ARATH   \n",
       "19  MA_10432594_MA_10432594.g18.t1   gi|75215641|sp|Q9XI47.1|SHH1_ARATH   \n",
       "\n",
       "    pident  length  mismatch  gapopen  qstart  qend  sstart  send  \\\n",
       "0   35.537     121        65        5     280   394     348   461   \n",
       "9   65.948     232        75        4       1   232      12   239   \n",
       "17  51.685     178        85        1      44   220      36   213   \n",
       "18  45.038     131        54        1     219   331     143   273   \n",
       "19  38.462      26        15        1       3    27      65    90   \n",
       "\n",
       "          evalue  bitscore  \n",
       "0   8.070000e-07      54.7  \n",
       "9   5.910000e-99     294.0  \n",
       "17  2.070000e-62     206.0  \n",
       "18  2.070000e-30     121.0  \n",
       "19  5.200000e+00      28.5  "
      ]
     },
     "execution_count": 90,
     "metadata": {},
     "output_type": "execute_result"
    }
   ],
   "source": [
    "filt3.head()"
   ]
  },
  {
   "cell_type": "code",
   "execution_count": 35,
   "metadata": {
    "collapsed": true
   },
   "outputs": [],
   "source": [
    "string2 = \"blast3 = blast_tab[blast_tab['sseqid'].str.contains('ARATH')]\"\n",
    "exec(string2)"
   ]
  },
  {
   "cell_type": "code",
   "execution_count": 36,
   "metadata": {
    "collapsed": false
   },
   "outputs": [
    {
     "data": {
      "text/html": [
       "<div>\n",
       "<table border=\"1\" class=\"dataframe\">\n",
       "  <thead>\n",
       "    <tr style=\"text-align: right;\">\n",
       "      <th></th>\n",
       "      <th>qseqid</th>\n",
       "      <th>sseqid</th>\n",
       "      <th>pident</th>\n",
       "      <th>length</th>\n",
       "      <th>mismatch</th>\n",
       "      <th>gapopen</th>\n",
       "      <th>qstart</th>\n",
       "      <th>qend</th>\n",
       "      <th>sstart</th>\n",
       "      <th>send</th>\n",
       "      <th>evalue</th>\n",
       "      <th>bitscore</th>\n",
       "    </tr>\n",
       "  </thead>\n",
       "  <tbody>\n",
       "    <tr>\n",
       "      <th>0</th>\n",
       "      <td>MA_19953_MA_19953.g2.t1</td>\n",
       "      <td>gi|71153422|sp|Q9LLL8.1|SBT4E_ARATH</td>\n",
       "      <td>35.537</td>\n",
       "      <td>121</td>\n",
       "      <td>65</td>\n",
       "      <td>5</td>\n",
       "      <td>280</td>\n",
       "      <td>394</td>\n",
       "      <td>348</td>\n",
       "      <td>461</td>\n",
       "      <td>8.070000e-07</td>\n",
       "      <td>54.7</td>\n",
       "    </tr>\n",
       "    <tr>\n",
       "      <th>9</th>\n",
       "      <td>MA_19953_MA_19953.g9.t1</td>\n",
       "      <td>gi|135915|sp|P28493.1|PR5_ARATH</td>\n",
       "      <td>65.948</td>\n",
       "      <td>232</td>\n",
       "      <td>75</td>\n",
       "      <td>4</td>\n",
       "      <td>1</td>\n",
       "      <td>232</td>\n",
       "      <td>12</td>\n",
       "      <td>239</td>\n",
       "      <td>5.910000e-99</td>\n",
       "      <td>294.0</td>\n",
       "    </tr>\n",
       "    <tr>\n",
       "      <th>17</th>\n",
       "      <td>MA_10432594_MA_10432594.g17.t1</td>\n",
       "      <td>gi|75154272|sp|Q8L817.1|ATCA7_ARATH</td>\n",
       "      <td>51.685</td>\n",
       "      <td>178</td>\n",
       "      <td>85</td>\n",
       "      <td>1</td>\n",
       "      <td>44</td>\n",
       "      <td>220</td>\n",
       "      <td>36</td>\n",
       "      <td>213</td>\n",
       "      <td>2.070000e-62</td>\n",
       "      <td>206.0</td>\n",
       "    </tr>\n",
       "    <tr>\n",
       "      <th>18</th>\n",
       "      <td>MA_10432594_MA_10432594.g17.t1</td>\n",
       "      <td>gi|75154272|sp|Q8L817.1|ATCA7_ARATH</td>\n",
       "      <td>45.038</td>\n",
       "      <td>131</td>\n",
       "      <td>54</td>\n",
       "      <td>1</td>\n",
       "      <td>219</td>\n",
       "      <td>331</td>\n",
       "      <td>143</td>\n",
       "      <td>273</td>\n",
       "      <td>2.070000e-30</td>\n",
       "      <td>121.0</td>\n",
       "    </tr>\n",
       "    <tr>\n",
       "      <th>19</th>\n",
       "      <td>MA_10432594_MA_10432594.g18.t1</td>\n",
       "      <td>gi|75215641|sp|Q9XI47.1|SHH1_ARATH</td>\n",
       "      <td>38.462</td>\n",
       "      <td>26</td>\n",
       "      <td>15</td>\n",
       "      <td>1</td>\n",
       "      <td>3</td>\n",
       "      <td>27</td>\n",
       "      <td>65</td>\n",
       "      <td>90</td>\n",
       "      <td>5.200000e+00</td>\n",
       "      <td>28.5</td>\n",
       "    </tr>\n",
       "  </tbody>\n",
       "</table>\n",
       "</div>"
      ],
      "text/plain": [
       "                            qseqid                               sseqid  \\\n",
       "0          MA_19953_MA_19953.g2.t1  gi|71153422|sp|Q9LLL8.1|SBT4E_ARATH   \n",
       "9          MA_19953_MA_19953.g9.t1      gi|135915|sp|P28493.1|PR5_ARATH   \n",
       "17  MA_10432594_MA_10432594.g17.t1  gi|75154272|sp|Q8L817.1|ATCA7_ARATH   \n",
       "18  MA_10432594_MA_10432594.g17.t1  gi|75154272|sp|Q8L817.1|ATCA7_ARATH   \n",
       "19  MA_10432594_MA_10432594.g18.t1   gi|75215641|sp|Q9XI47.1|SHH1_ARATH   \n",
       "\n",
       "    pident  length  mismatch  gapopen  qstart  qend  sstart  send  \\\n",
       "0   35.537     121        65        5     280   394     348   461   \n",
       "9   65.948     232        75        4       1   232      12   239   \n",
       "17  51.685     178        85        1      44   220      36   213   \n",
       "18  45.038     131        54        1     219   331     143   273   \n",
       "19  38.462      26        15        1       3    27      65    90   \n",
       "\n",
       "          evalue  bitscore  \n",
       "0   8.070000e-07      54.7  \n",
       "9   5.910000e-99     294.0  \n",
       "17  2.070000e-62     206.0  \n",
       "18  2.070000e-30     121.0  \n",
       "19  5.200000e+00      28.5  "
      ]
     },
     "execution_count": 36,
     "metadata": {},
     "output_type": "execute_result"
    }
   ],
   "source": [
    "blast3.head()"
   ]
  },
  {
   "cell_type": "code",
   "execution_count": 91,
   "metadata": {
    "collapsed": true
   },
   "outputs": [],
   "source": [
    "# now try with multis\n",
    "para_dict4 = {'MIN_LENGTH':10, 'MAX_MISMATCH':50, 'FORMAT':'default'}"
   ]
  },
  {
   "cell_type": "code",
   "execution_count": 92,
   "metadata": {
    "collapsed": false
   },
   "outputs": [],
   "source": [
    "filt4 = filter_blast(blast_tab, para_dict4)"
   ]
  },
  {
   "cell_type": "code",
   "execution_count": 93,
   "metadata": {
    "collapsed": false
   },
   "outputs": [
    {
     "data": {
      "text/html": [
       "<div>\n",
       "<table border=\"1\" class=\"dataframe\">\n",
       "  <thead>\n",
       "    <tr style=\"text-align: right;\">\n",
       "      <th></th>\n",
       "      <th>qseqid</th>\n",
       "      <th>sseqid</th>\n",
       "      <th>pident</th>\n",
       "      <th>length</th>\n",
       "      <th>mismatch</th>\n",
       "      <th>gapopen</th>\n",
       "      <th>qstart</th>\n",
       "      <th>qend</th>\n",
       "      <th>sstart</th>\n",
       "      <th>send</th>\n",
       "      <th>evalue</th>\n",
       "      <th>bitscore</th>\n",
       "    </tr>\n",
       "  </thead>\n",
       "  <tbody>\n",
       "    <tr>\n",
       "      <th>1</th>\n",
       "      <td>MA_19953_MA_19953.g3.t1</td>\n",
       "      <td>gi|60392921|sp|P11369.2|LORF2_MOUSE</td>\n",
       "      <td>37.681</td>\n",
       "      <td>69</td>\n",
       "      <td>42</td>\n",
       "      <td>1</td>\n",
       "      <td>209</td>\n",
       "      <td>276</td>\n",
       "      <td>510</td>\n",
       "      <td>578</td>\n",
       "      <td>3.920000e-05</td>\n",
       "      <td>50.1</td>\n",
       "    </tr>\n",
       "    <tr>\n",
       "      <th>5</th>\n",
       "      <td>MA_19953_MA_19953.g7.t1</td>\n",
       "      <td>gi|130582|sp|P10978.1|POLX_TOBAC</td>\n",
       "      <td>64.103</td>\n",
       "      <td>39</td>\n",
       "      <td>14</td>\n",
       "      <td>0</td>\n",
       "      <td>114</td>\n",
       "      <td>152</td>\n",
       "      <td>530</td>\n",
       "      <td>568</td>\n",
       "      <td>2.210000e-07</td>\n",
       "      <td>55.1</td>\n",
       "    </tr>\n",
       "    <tr>\n",
       "      <th>6</th>\n",
       "      <td>MA_19953_MA_19953.g7.t1</td>\n",
       "      <td>gi|130582|sp|P10978.1|POLX_TOBAC</td>\n",
       "      <td>50.000</td>\n",
       "      <td>40</td>\n",
       "      <td>20</td>\n",
       "      <td>0</td>\n",
       "      <td>52</td>\n",
       "      <td>91</td>\n",
       "      <td>295</td>\n",
       "      <td>334</td>\n",
       "      <td>2.000000e-03</td>\n",
       "      <td>43.5</td>\n",
       "    </tr>\n",
       "    <tr>\n",
       "      <th>7</th>\n",
       "      <td>MA_19953_MA_19953.g7.t1</td>\n",
       "      <td>gi|130582|sp|P10978.1|POLX_TOBAC</td>\n",
       "      <td>30.189</td>\n",
       "      <td>53</td>\n",
       "      <td>37</td>\n",
       "      <td>0</td>\n",
       "      <td>1</td>\n",
       "      <td>53</td>\n",
       "      <td>112</td>\n",
       "      <td>164</td>\n",
       "      <td>4.400000e+00</td>\n",
       "      <td>32.3</td>\n",
       "    </tr>\n",
       "    <tr>\n",
       "      <th>10</th>\n",
       "      <td>MA_10434223_MA_10434223.g10.t1</td>\n",
       "      <td>gi|146291076|sp|Q7LHG5.2|YI31B_YEAST</td>\n",
       "      <td>31.667</td>\n",
       "      <td>60</td>\n",
       "      <td>39</td>\n",
       "      <td>1</td>\n",
       "      <td>231</td>\n",
       "      <td>290</td>\n",
       "      <td>663</td>\n",
       "      <td>720</td>\n",
       "      <td>4.830000e-04</td>\n",
       "      <td>45.1</td>\n",
       "    </tr>\n",
       "  </tbody>\n",
       "</table>\n",
       "</div>"
      ],
      "text/plain": [
       "                            qseqid                                sseqid  \\\n",
       "1          MA_19953_MA_19953.g3.t1   gi|60392921|sp|P11369.2|LORF2_MOUSE   \n",
       "5          MA_19953_MA_19953.g7.t1      gi|130582|sp|P10978.1|POLX_TOBAC   \n",
       "6          MA_19953_MA_19953.g7.t1      gi|130582|sp|P10978.1|POLX_TOBAC   \n",
       "7          MA_19953_MA_19953.g7.t1      gi|130582|sp|P10978.1|POLX_TOBAC   \n",
       "10  MA_10434223_MA_10434223.g10.t1  gi|146291076|sp|Q7LHG5.2|YI31B_YEAST   \n",
       "\n",
       "    pident  length  mismatch  gapopen  qstart  qend  sstart  send  \\\n",
       "1   37.681      69        42        1     209   276     510   578   \n",
       "5   64.103      39        14        0     114   152     530   568   \n",
       "6   50.000      40        20        0      52    91     295   334   \n",
       "7   30.189      53        37        0       1    53     112   164   \n",
       "10  31.667      60        39        1     231   290     663   720   \n",
       "\n",
       "          evalue  bitscore  \n",
       "1   3.920000e-05      50.1  \n",
       "5   2.210000e-07      55.1  \n",
       "6   2.000000e-03      43.5  \n",
       "7   4.400000e+00      32.3  \n",
       "10  4.830000e-04      45.1  "
      ]
     },
     "execution_count": 93,
     "metadata": {},
     "output_type": "execute_result"
    }
   ],
   "source": [
    "filt4.head()"
   ]
  },
  {
   "cell_type": "code",
   "execution_count": 80,
   "metadata": {
    "collapsed": false
   },
   "outputs": [
    {
     "data": {
      "text/html": [
       "<div>\n",
       "<table border=\"1\" class=\"dataframe\">\n",
       "  <thead>\n",
       "    <tr style=\"text-align: right;\">\n",
       "      <th></th>\n",
       "      <th>qseqid</th>\n",
       "      <th>sseqid</th>\n",
       "      <th>pident</th>\n",
       "      <th>length</th>\n",
       "      <th>mismatch</th>\n",
       "      <th>gapopen</th>\n",
       "      <th>qstart</th>\n",
       "      <th>qend</th>\n",
       "      <th>sstart</th>\n",
       "      <th>send</th>\n",
       "      <th>evalue</th>\n",
       "      <th>bitscore</th>\n",
       "    </tr>\n",
       "  </thead>\n",
       "  <tbody>\n",
       "    <tr>\n",
       "      <th>0</th>\n",
       "      <td>MA_19953_MA_19953.g2.t1</td>\n",
       "      <td>gi|71153422|sp|Q9LLL8.1|SBT4E_ARATH</td>\n",
       "      <td>35.537</td>\n",
       "      <td>121</td>\n",
       "      <td>65</td>\n",
       "      <td>5</td>\n",
       "      <td>280</td>\n",
       "      <td>394</td>\n",
       "      <td>348</td>\n",
       "      <td>461</td>\n",
       "      <td>8.070000e-07</td>\n",
       "      <td>54.7</td>\n",
       "    </tr>\n",
       "    <tr>\n",
       "      <th>1</th>\n",
       "      <td>MA_19953_MA_19953.g3.t1</td>\n",
       "      <td>gi|60392921|sp|P11369.2|LORF2_MOUSE</td>\n",
       "      <td>37.681</td>\n",
       "      <td>69</td>\n",
       "      <td>42</td>\n",
       "      <td>1</td>\n",
       "      <td>209</td>\n",
       "      <td>276</td>\n",
       "      <td>510</td>\n",
       "      <td>578</td>\n",
       "      <td>3.920000e-05</td>\n",
       "      <td>50.1</td>\n",
       "    </tr>\n",
       "    <tr>\n",
       "      <th>2</th>\n",
       "      <td>MA_19953_MA_19953.g4.t1</td>\n",
       "      <td>gi|141475|sp|P14381.1|YTX2_XENLA</td>\n",
       "      <td>22.966</td>\n",
       "      <td>762</td>\n",
       "      <td>480</td>\n",
       "      <td>22</td>\n",
       "      <td>328</td>\n",
       "      <td>1012</td>\n",
       "      <td>128</td>\n",
       "      <td>859</td>\n",
       "      <td>2.240000e-35</td>\n",
       "      <td>150.0</td>\n",
       "    </tr>\n",
       "    <tr>\n",
       "      <th>3</th>\n",
       "      <td>MA_19953_MA_19953.g5.t1</td>\n",
       "      <td>gi|81615471|sp|Q6LU24.1|PUR4_PHOPR</td>\n",
       "      <td>31.868</td>\n",
       "      <td>91</td>\n",
       "      <td>57</td>\n",
       "      <td>2</td>\n",
       "      <td>13</td>\n",
       "      <td>98</td>\n",
       "      <td>971</td>\n",
       "      <td>1061</td>\n",
       "      <td>2.400000e-02</td>\n",
       "      <td>40.0</td>\n",
       "    </tr>\n",
       "    <tr>\n",
       "      <th>4</th>\n",
       "      <td>MA_19953_MA_19953.g6.t1</td>\n",
       "      <td>gi|81960279|sp|Q914H8.1|Y054_SIFVH</td>\n",
       "      <td>19.880</td>\n",
       "      <td>166</td>\n",
       "      <td>122</td>\n",
       "      <td>4</td>\n",
       "      <td>17</td>\n",
       "      <td>175</td>\n",
       "      <td>176</td>\n",
       "      <td>337</td>\n",
       "      <td>9.800000e-02</td>\n",
       "      <td>37.7</td>\n",
       "    </tr>\n",
       "  </tbody>\n",
       "</table>\n",
       "</div>"
      ],
      "text/plain": [
       "                    qseqid                               sseqid  pident  \\\n",
       "0  MA_19953_MA_19953.g2.t1  gi|71153422|sp|Q9LLL8.1|SBT4E_ARATH  35.537   \n",
       "1  MA_19953_MA_19953.g3.t1  gi|60392921|sp|P11369.2|LORF2_MOUSE  37.681   \n",
       "2  MA_19953_MA_19953.g4.t1     gi|141475|sp|P14381.1|YTX2_XENLA  22.966   \n",
       "3  MA_19953_MA_19953.g5.t1   gi|81615471|sp|Q6LU24.1|PUR4_PHOPR  31.868   \n",
       "4  MA_19953_MA_19953.g6.t1   gi|81960279|sp|Q914H8.1|Y054_SIFVH  19.880   \n",
       "\n",
       "   length  mismatch  gapopen  qstart  qend  sstart  send        evalue  \\\n",
       "0     121        65        5     280   394     348   461  8.070000e-07   \n",
       "1      69        42        1     209   276     510   578  3.920000e-05   \n",
       "2     762       480       22     328  1012     128   859  2.240000e-35   \n",
       "3      91        57        2      13    98     971  1061  2.400000e-02   \n",
       "4     166       122        4      17   175     176   337  9.800000e-02   \n",
       "\n",
       "   bitscore  \n",
       "0      54.7  \n",
       "1      50.1  \n",
       "2     150.0  \n",
       "3      40.0  \n",
       "4      37.7  "
      ]
     },
     "execution_count": 80,
     "metadata": {},
     "output_type": "execute_result"
    }
   ],
   "source": [
    "blast_tab.head()"
   ]
  },
  {
   "cell_type": "markdown",
   "metadata": {
    "collapsed": true
   },
   "source": [
    "### Test with big file"
   ]
  },
  {
   "cell_type": "code",
   "execution_count": 4,
   "metadata": {
    "collapsed": true
   },
   "outputs": [],
   "source": [
    "bb_file = '/Users/hcross/analysis/camel2016/its_refs/its_decomtamination/blout_itsUNK_to_nt.txt'"
   ]
  },
  {
   "cell_type": "code",
   "execution_count": 20,
   "metadata": {
    "collapsed": true
   },
   "outputs": [],
   "source": [
    "bb_paras = ['qseqid','sseqid','stitle','evalue','bitscore','qcovs','length','pident','nident','qstart','qend','sstart','send','qseq','sseq']"
   ]
  },
  {
   "cell_type": "code",
   "execution_count": 21,
   "metadata": {
    "collapsed": true
   },
   "outputs": [],
   "source": [
    "bb = blast_parser(bb_file, bb_paras)"
   ]
  },
  {
   "cell_type": "code",
   "execution_count": 32,
   "metadata": {
    "collapsed": false
   },
   "outputs": [],
   "source": [
    "bb_para1 = {'MIN_PCT_ID': 90, 'IN_TITLE': 'Uncultured', 'FORMAT': 'custom'}"
   ]
  },
  {
   "cell_type": "code",
   "execution_count": 23,
   "metadata": {
    "collapsed": false
   },
   "outputs": [
    {
     "ename": "AttributeError",
     "evalue": "Can only use .str accessor with string values, which use np.object_ dtype in pandas",
     "output_type": "error",
     "traceback": [
      "\u001b[0;31m---------------------------------------------------------------------------\u001b[0m",
      "\u001b[0;31mAttributeError\u001b[0m                            Traceback (most recent call last)",
      "\u001b[0;32m<ipython-input-23-7045f5888e00>\u001b[0m in \u001b[0;36m<module>\u001b[0;34m()\u001b[0m\n\u001b[0;32m----> 1\u001b[0;31m \u001b[0mbb1\u001b[0m \u001b[0;34m=\u001b[0m \u001b[0mfilter_blast\u001b[0m\u001b[0;34m(\u001b[0m\u001b[0mbb\u001b[0m\u001b[0;34m,\u001b[0m \u001b[0mbb_para1\u001b[0m\u001b[0;34m)\u001b[0m\u001b[0;34m\u001b[0m\u001b[0m\n\u001b[0m",
      "\u001b[0;32m<ipython-input-9-963d533353e7>\u001b[0m in \u001b[0;36mfilter_blast\u001b[0;34m(blastDF, blast_parameters)\u001b[0m\n\u001b[1;32m     43\u001b[0m         \u001b[0msemifinal\u001b[0m \u001b[0;34m=\u001b[0m \u001b[0minitial\u001b[0m\u001b[0;34m[\u001b[0m\u001b[0;34m:\u001b[0m\u001b[0;34m-\u001b[0m\u001b[0;36m1\u001b[0m\u001b[0;34m]\u001b[0m\u001b[0;34m\u001b[0m\u001b[0m\n\u001b[1;32m     44\u001b[0m         \u001b[0mfinal\u001b[0m \u001b[0;34m=\u001b[0m \u001b[0msemifinal\u001b[0m\u001b[0;34m+\u001b[0m\u001b[0;34m\"]\"\u001b[0m\u001b[0;34m\u001b[0m\u001b[0m\n\u001b[0;32m---> 45\u001b[0;31m         \u001b[0;32mexec\u001b[0m\u001b[0;34m(\u001b[0m\u001b[0mfinal\u001b[0m\u001b[0;34m)\u001b[0m\u001b[0;34m\u001b[0m\u001b[0m\n\u001b[0m\u001b[1;32m     46\u001b[0m     \u001b[0;32mreturn\u001b[0m \u001b[0mfilt_blastDF\u001b[0m\u001b[0;34m\u001b[0m\u001b[0m\n\u001b[1;32m     47\u001b[0m \u001b[0;34m\u001b[0m\u001b[0m\n",
      "\u001b[0;32m<string>\u001b[0m in \u001b[0;36m<module>\u001b[0;34m()\u001b[0m\n",
      "\u001b[0;32m/Users/hcross/anaconda/envs/pan/lib/python2.7/site-packages/pandas/core/generic.pyc\u001b[0m in \u001b[0;36m__getattr__\u001b[0;34m(self, name)\u001b[0m\n\u001b[1;32m   2666\u001b[0m         if (name in self._internal_names_set or name in self._metadata or\n\u001b[1;32m   2667\u001b[0m                 name in self._accessors):\n\u001b[0;32m-> 2668\u001b[0;31m             \u001b[0;32mreturn\u001b[0m \u001b[0mobject\u001b[0m\u001b[0;34m.\u001b[0m\u001b[0m__getattribute__\u001b[0m\u001b[0;34m(\u001b[0m\u001b[0mself\u001b[0m\u001b[0;34m,\u001b[0m \u001b[0mname\u001b[0m\u001b[0;34m)\u001b[0m\u001b[0;34m\u001b[0m\u001b[0m\n\u001b[0m\u001b[1;32m   2669\u001b[0m         \u001b[0;32melse\u001b[0m\u001b[0;34m:\u001b[0m\u001b[0;34m\u001b[0m\u001b[0m\n\u001b[1;32m   2670\u001b[0m             \u001b[0;32mif\u001b[0m \u001b[0mname\u001b[0m \u001b[0;32min\u001b[0m \u001b[0mself\u001b[0m\u001b[0;34m.\u001b[0m\u001b[0m_info_axis\u001b[0m\u001b[0;34m:\u001b[0m\u001b[0;34m\u001b[0m\u001b[0m\n",
      "\u001b[0;32m/Users/hcross/anaconda/envs/pan/lib/python2.7/site-packages/pandas/core/base.pyc\u001b[0m in \u001b[0;36m__get__\u001b[0;34m(self, instance, owner)\u001b[0m\n\u001b[1;32m    235\u001b[0m             \u001b[0;31m# this ensures that Series.str.<method> is well defined\u001b[0m\u001b[0;34m\u001b[0m\u001b[0;34m\u001b[0m\u001b[0m\n\u001b[1;32m    236\u001b[0m             \u001b[0;32mreturn\u001b[0m \u001b[0mself\u001b[0m\u001b[0;34m.\u001b[0m\u001b[0maccessor_cls\u001b[0m\u001b[0;34m\u001b[0m\u001b[0m\n\u001b[0;32m--> 237\u001b[0;31m         \u001b[0;32mreturn\u001b[0m \u001b[0mself\u001b[0m\u001b[0;34m.\u001b[0m\u001b[0mconstruct_accessor\u001b[0m\u001b[0;34m(\u001b[0m\u001b[0minstance\u001b[0m\u001b[0;34m)\u001b[0m\u001b[0;34m\u001b[0m\u001b[0m\n\u001b[0m\u001b[1;32m    238\u001b[0m \u001b[0;34m\u001b[0m\u001b[0m\n\u001b[1;32m    239\u001b[0m     \u001b[0;32mdef\u001b[0m \u001b[0m__set__\u001b[0m\u001b[0;34m(\u001b[0m\u001b[0mself\u001b[0m\u001b[0;34m,\u001b[0m \u001b[0minstance\u001b[0m\u001b[0;34m,\u001b[0m \u001b[0mvalue\u001b[0m\u001b[0;34m)\u001b[0m\u001b[0;34m:\u001b[0m\u001b[0;34m\u001b[0m\u001b[0m\n",
      "\u001b[0;32m/Users/hcross/anaconda/envs/pan/lib/python2.7/site-packages/pandas/core/strings.pyc\u001b[0m in \u001b[0;36m_make_str_accessor\u001b[0;34m(self)\u001b[0m\n\u001b[1;32m   1816\u001b[0m             \u001b[0;31m# (instead of test for object dtype), but that isn't practical for\u001b[0m\u001b[0;34m\u001b[0m\u001b[0;34m\u001b[0m\u001b[0m\n\u001b[1;32m   1817\u001b[0m             \u001b[0;31m# performance reasons until we have a str dtype (GH 9343)\u001b[0m\u001b[0;34m\u001b[0m\u001b[0;34m\u001b[0m\u001b[0m\n\u001b[0;32m-> 1818\u001b[0;31m             raise AttributeError(\"Can only use .str accessor with string \"\n\u001b[0m\u001b[1;32m   1819\u001b[0m                                  \u001b[0;34m\"values, which use np.object_ dtype in \"\u001b[0m\u001b[0;34m\u001b[0m\u001b[0m\n\u001b[1;32m   1820\u001b[0m                                  \"pandas\")\n",
      "\u001b[0;31mAttributeError\u001b[0m: Can only use .str accessor with string values, which use np.object_ dtype in pandas"
     ]
    }
   ],
   "source": [
    "bb1 = filter_blast(bb, bb_para1)"
   ]
  },
  {
   "cell_type": "code",
   "execution_count": 11,
   "metadata": {
    "collapsed": true
   },
   "outputs": [],
   "source": [
    "bb.stitle = bb.stitle.astype(str)"
   ]
  },
  {
   "cell_type": "code",
   "execution_count": 11,
   "metadata": {
    "collapsed": true
   },
   "outputs": [],
   "source": [
    "bb_para2 = {'IN_SUBJECT_ID': 'JX', 'FORMAT':'default'}"
   ]
  },
  {
   "cell_type": "code",
   "execution_count": 12,
   "metadata": {
    "collapsed": true
   },
   "outputs": [],
   "source": [
    "bb2 = filter_blast(bb, bb_para2)"
   ]
  },
  {
   "cell_type": "code",
   "execution_count": 13,
   "metadata": {
    "collapsed": false
   },
   "outputs": [
    {
     "data": {
      "text/html": [
       "<div>\n",
       "<table border=\"1\" class=\"dataframe\">\n",
       "  <thead>\n",
       "    <tr style=\"text-align: right;\">\n",
       "      <th></th>\n",
       "      <th>qseqid</th>\n",
       "      <th>sseqid</th>\n",
       "      <th>stitle</th>\n",
       "      <th>evalue</th>\n",
       "      <th>bitscore</th>\n",
       "      <th>qcovs</th>\n",
       "      <th>length</th>\n",
       "      <th>pident</th>\n",
       "      <th>nident</th>\n",
       "      <th>qstart</th>\n",
       "      <th>qend</th>\n",
       "      <th>sstart</th>\n",
       "      <th>send</th>\n",
       "      <th>qseq</th>\n",
       "      <th>sseq</th>\n",
       "    </tr>\n",
       "  </thead>\n",
       "  <tbody>\n",
       "    <tr>\n",
       "      <th>5</th>\n",
       "      <td>cam03.cf15_322</td>\n",
       "      <td>gi|410026385|gb|JX546605.1|</td>\n",
       "      <td>Uncultured fungus clone S9 18S ribosomal RNA g...</td>\n",
       "      <td>3.360000e-27</td>\n",
       "      <td>130.0</td>\n",
       "      <td>100</td>\n",
       "      <td>80</td>\n",
       "      <td>96.250</td>\n",
       "      <td>77</td>\n",
       "      <td>1</td>\n",
       "      <td>78</td>\n",
       "      <td>497</td>\n",
       "      <td>576</td>\n",
       "      <td>GCGGTGCGGCCAAGCCGTAAAACACCCCACTTCTTC--AAGGTTGA...</td>\n",
       "      <td>GCGGTGCGGCCACGCCGTAAAACACCCCACTTCTTCCAAAGGTTGA...</td>\n",
       "    </tr>\n",
       "    <tr>\n",
       "      <th>10</th>\n",
       "      <td>cam03.cf15_322</td>\n",
       "      <td>gi|404247867|gb|JX042888.1|</td>\n",
       "      <td>Uncultured fungus clone G2_DB7 18S ribosomal R...</td>\n",
       "      <td>1.560000e-25</td>\n",
       "      <td>124.0</td>\n",
       "      <td>99</td>\n",
       "      <td>77</td>\n",
       "      <td>96.104</td>\n",
       "      <td>74</td>\n",
       "      <td>1</td>\n",
       "      <td>77</td>\n",
       "      <td>498</td>\n",
       "      <td>573</td>\n",
       "      <td>GCGGTGCGGCCAAGCCGTAAAACACCCCACTTCTTCAAGGTTGACC...</td>\n",
       "      <td>GCGGTGCGGCCACGCCGTAAAACACCCCACTTC-TCAGGGTTGACC...</td>\n",
       "    </tr>\n",
       "    <tr>\n",
       "      <th>12</th>\n",
       "      <td>cam03.cf15_322</td>\n",
       "      <td>gi|395335538|gb|JX076982.1|</td>\n",
       "      <td>Acremonium chrysogenum strain GHL0901-3 intern...</td>\n",
       "      <td>2.020000e-24</td>\n",
       "      <td>121.0</td>\n",
       "      <td>87</td>\n",
       "      <td>68</td>\n",
       "      <td>98.529</td>\n",
       "      <td>67</td>\n",
       "      <td>1</td>\n",
       "      <td>68</td>\n",
       "      <td>404</td>\n",
       "      <td>471</td>\n",
       "      <td>GCGGTGCGGCCAAGCCGTAAAACACCCCACTTCTTCAAGGTTGACC...</td>\n",
       "      <td>GCGGTGCGGCCACGCCGTAAAACACCCCACTTCTTCAAGGTTGACC...</td>\n",
       "    </tr>\n",
       "    <tr>\n",
       "      <th>25</th>\n",
       "      <td>cam03.cf15_481</td>\n",
       "      <td>gi|410026385|gb|JX546605.1|</td>\n",
       "      <td>Uncultured fungus clone S9 18S ribosomal RNA g...</td>\n",
       "      <td>3.360000e-27</td>\n",
       "      <td>130.0</td>\n",
       "      <td>100</td>\n",
       "      <td>80</td>\n",
       "      <td>96.250</td>\n",
       "      <td>77</td>\n",
       "      <td>1</td>\n",
       "      <td>78</td>\n",
       "      <td>497</td>\n",
       "      <td>576</td>\n",
       "      <td>GCGGTGCGGCCAAGCCGTAAAACACCCCACTTCTTC--AAGGTTGA...</td>\n",
       "      <td>GCGGTGCGGCCACGCCGTAAAACACCCCACTTCTTCCAAAGGTTGA...</td>\n",
       "    </tr>\n",
       "    <tr>\n",
       "      <th>30</th>\n",
       "      <td>cam03.cf15_481</td>\n",
       "      <td>gi|404247867|gb|JX042888.1|</td>\n",
       "      <td>Uncultured fungus clone G2_DB7 18S ribosomal R...</td>\n",
       "      <td>1.560000e-25</td>\n",
       "      <td>124.0</td>\n",
       "      <td>99</td>\n",
       "      <td>77</td>\n",
       "      <td>96.104</td>\n",
       "      <td>74</td>\n",
       "      <td>1</td>\n",
       "      <td>77</td>\n",
       "      <td>498</td>\n",
       "      <td>573</td>\n",
       "      <td>GCGGTGCGGCCAAGCCGTAAAACACCCCACTTCTTCAAGGTTGACC...</td>\n",
       "      <td>GCGGTGCGGCCACGCCGTAAAACACCCCACTTC-TCAGGGTTGACC...</td>\n",
       "    </tr>\n",
       "  </tbody>\n",
       "</table>\n",
       "</div>"
      ],
      "text/plain": [
       "            qseqid                       sseqid  \\\n",
       "5   cam03.cf15_322  gi|410026385|gb|JX546605.1|   \n",
       "10  cam03.cf15_322  gi|404247867|gb|JX042888.1|   \n",
       "12  cam03.cf15_322  gi|395335538|gb|JX076982.1|   \n",
       "25  cam03.cf15_481  gi|410026385|gb|JX546605.1|   \n",
       "30  cam03.cf15_481  gi|404247867|gb|JX042888.1|   \n",
       "\n",
       "                                               stitle        evalue  bitscore  \\\n",
       "5   Uncultured fungus clone S9 18S ribosomal RNA g...  3.360000e-27     130.0   \n",
       "10  Uncultured fungus clone G2_DB7 18S ribosomal R...  1.560000e-25     124.0   \n",
       "12  Acremonium chrysogenum strain GHL0901-3 intern...  2.020000e-24     121.0   \n",
       "25  Uncultured fungus clone S9 18S ribosomal RNA g...  3.360000e-27     130.0   \n",
       "30  Uncultured fungus clone G2_DB7 18S ribosomal R...  1.560000e-25     124.0   \n",
       "\n",
       "    qcovs  length  pident  nident  qstart  qend  sstart  send  \\\n",
       "5     100      80  96.250      77       1    78     497   576   \n",
       "10     99      77  96.104      74       1    77     498   573   \n",
       "12     87      68  98.529      67       1    68     404   471   \n",
       "25    100      80  96.250      77       1    78     497   576   \n",
       "30     99      77  96.104      74       1    77     498   573   \n",
       "\n",
       "                                                 qseq  \\\n",
       "5   GCGGTGCGGCCAAGCCGTAAAACACCCCACTTCTTC--AAGGTTGA...   \n",
       "10  GCGGTGCGGCCAAGCCGTAAAACACCCCACTTCTTCAAGGTTGACC...   \n",
       "12  GCGGTGCGGCCAAGCCGTAAAACACCCCACTTCTTCAAGGTTGACC...   \n",
       "25  GCGGTGCGGCCAAGCCGTAAAACACCCCACTTCTTC--AAGGTTGA...   \n",
       "30  GCGGTGCGGCCAAGCCGTAAAACACCCCACTTCTTCAAGGTTGACC...   \n",
       "\n",
       "                                                 sseq  \n",
       "5   GCGGTGCGGCCACGCCGTAAAACACCCCACTTCTTCCAAAGGTTGA...  \n",
       "10  GCGGTGCGGCCACGCCGTAAAACACCCCACTTC-TCAGGGTTGACC...  \n",
       "12  GCGGTGCGGCCACGCCGTAAAACACCCCACTTCTTCAAGGTTGACC...  \n",
       "25  GCGGTGCGGCCACGCCGTAAAACACCCCACTTCTTCCAAAGGTTGA...  \n",
       "30  GCGGTGCGGCCACGCCGTAAAACACCCCACTTC-TCAGGGTTGACC...  "
      ]
     },
     "execution_count": 13,
     "metadata": {},
     "output_type": "execute_result"
    }
   ],
   "source": [
    "bb2.head()"
   ]
  },
  {
   "cell_type": "code",
   "execution_count": 27,
   "metadata": {
    "collapsed": true
   },
   "outputs": [],
   "source": [
    "bb_para3 = {'MIN_PCT_ID': 90, 'IN_TITLE': 'Acremonium', 'FORMAT': 'custom'}"
   ]
  },
  {
   "cell_type": "code",
   "execution_count": 28,
   "metadata": {
    "collapsed": false
   },
   "outputs": [
    {
     "ename": "AttributeError",
     "evalue": "Can only use .str accessor with string values, which use np.object_ dtype in pandas",
     "output_type": "error",
     "traceback": [
      "\u001b[0;31m---------------------------------------------------------------------------\u001b[0m",
      "\u001b[0;31mAttributeError\u001b[0m                            Traceback (most recent call last)",
      "\u001b[0;32m<ipython-input-28-ab315fa5cf73>\u001b[0m in \u001b[0;36m<module>\u001b[0;34m()\u001b[0m\n\u001b[0;32m----> 1\u001b[0;31m \u001b[0mbb3\u001b[0m \u001b[0;34m=\u001b[0m \u001b[0mfilter_blast\u001b[0m\u001b[0;34m(\u001b[0m\u001b[0mbb\u001b[0m\u001b[0;34m,\u001b[0m \u001b[0mbb_para3\u001b[0m\u001b[0;34m)\u001b[0m\u001b[0;34m\u001b[0m\u001b[0m\n\u001b[0m",
      "\u001b[0;32m<ipython-input-9-963d533353e7>\u001b[0m in \u001b[0;36mfilter_blast\u001b[0;34m(blastDF, blast_parameters)\u001b[0m\n\u001b[1;32m     43\u001b[0m         \u001b[0msemifinal\u001b[0m \u001b[0;34m=\u001b[0m \u001b[0minitial\u001b[0m\u001b[0;34m[\u001b[0m\u001b[0;34m:\u001b[0m\u001b[0;34m-\u001b[0m\u001b[0;36m1\u001b[0m\u001b[0;34m]\u001b[0m\u001b[0;34m\u001b[0m\u001b[0m\n\u001b[1;32m     44\u001b[0m         \u001b[0mfinal\u001b[0m \u001b[0;34m=\u001b[0m \u001b[0msemifinal\u001b[0m\u001b[0;34m+\u001b[0m\u001b[0;34m\"]\"\u001b[0m\u001b[0;34m\u001b[0m\u001b[0m\n\u001b[0;32m---> 45\u001b[0;31m         \u001b[0;32mexec\u001b[0m\u001b[0;34m(\u001b[0m\u001b[0mfinal\u001b[0m\u001b[0;34m)\u001b[0m\u001b[0;34m\u001b[0m\u001b[0m\n\u001b[0m\u001b[1;32m     46\u001b[0m     \u001b[0;32mreturn\u001b[0m \u001b[0mfilt_blastDF\u001b[0m\u001b[0;34m\u001b[0m\u001b[0m\n\u001b[1;32m     47\u001b[0m \u001b[0;34m\u001b[0m\u001b[0m\n",
      "\u001b[0;32m<string>\u001b[0m in \u001b[0;36m<module>\u001b[0;34m()\u001b[0m\n",
      "\u001b[0;32m/Users/hcross/anaconda/envs/pan/lib/python2.7/site-packages/pandas/core/generic.pyc\u001b[0m in \u001b[0;36m__getattr__\u001b[0;34m(self, name)\u001b[0m\n\u001b[1;32m   2666\u001b[0m         if (name in self._internal_names_set or name in self._metadata or\n\u001b[1;32m   2667\u001b[0m                 name in self._accessors):\n\u001b[0;32m-> 2668\u001b[0;31m             \u001b[0;32mreturn\u001b[0m \u001b[0mobject\u001b[0m\u001b[0;34m.\u001b[0m\u001b[0m__getattribute__\u001b[0m\u001b[0;34m(\u001b[0m\u001b[0mself\u001b[0m\u001b[0;34m,\u001b[0m \u001b[0mname\u001b[0m\u001b[0;34m)\u001b[0m\u001b[0;34m\u001b[0m\u001b[0m\n\u001b[0m\u001b[1;32m   2669\u001b[0m         \u001b[0;32melse\u001b[0m\u001b[0;34m:\u001b[0m\u001b[0;34m\u001b[0m\u001b[0m\n\u001b[1;32m   2670\u001b[0m             \u001b[0;32mif\u001b[0m \u001b[0mname\u001b[0m \u001b[0;32min\u001b[0m \u001b[0mself\u001b[0m\u001b[0;34m.\u001b[0m\u001b[0m_info_axis\u001b[0m\u001b[0;34m:\u001b[0m\u001b[0;34m\u001b[0m\u001b[0m\n",
      "\u001b[0;32m/Users/hcross/anaconda/envs/pan/lib/python2.7/site-packages/pandas/core/base.pyc\u001b[0m in \u001b[0;36m__get__\u001b[0;34m(self, instance, owner)\u001b[0m\n\u001b[1;32m    235\u001b[0m             \u001b[0;31m# this ensures that Series.str.<method> is well defined\u001b[0m\u001b[0;34m\u001b[0m\u001b[0;34m\u001b[0m\u001b[0m\n\u001b[1;32m    236\u001b[0m             \u001b[0;32mreturn\u001b[0m \u001b[0mself\u001b[0m\u001b[0;34m.\u001b[0m\u001b[0maccessor_cls\u001b[0m\u001b[0;34m\u001b[0m\u001b[0m\n\u001b[0;32m--> 237\u001b[0;31m         \u001b[0;32mreturn\u001b[0m \u001b[0mself\u001b[0m\u001b[0;34m.\u001b[0m\u001b[0mconstruct_accessor\u001b[0m\u001b[0;34m(\u001b[0m\u001b[0minstance\u001b[0m\u001b[0;34m)\u001b[0m\u001b[0;34m\u001b[0m\u001b[0m\n\u001b[0m\u001b[1;32m    238\u001b[0m \u001b[0;34m\u001b[0m\u001b[0m\n\u001b[1;32m    239\u001b[0m     \u001b[0;32mdef\u001b[0m \u001b[0m__set__\u001b[0m\u001b[0;34m(\u001b[0m\u001b[0mself\u001b[0m\u001b[0;34m,\u001b[0m \u001b[0minstance\u001b[0m\u001b[0;34m,\u001b[0m \u001b[0mvalue\u001b[0m\u001b[0;34m)\u001b[0m\u001b[0;34m:\u001b[0m\u001b[0;34m\u001b[0m\u001b[0m\n",
      "\u001b[0;32m/Users/hcross/anaconda/envs/pan/lib/python2.7/site-packages/pandas/core/strings.pyc\u001b[0m in \u001b[0;36m_make_str_accessor\u001b[0;34m(self)\u001b[0m\n\u001b[1;32m   1816\u001b[0m             \u001b[0;31m# (instead of test for object dtype), but that isn't practical for\u001b[0m\u001b[0;34m\u001b[0m\u001b[0;34m\u001b[0m\u001b[0m\n\u001b[1;32m   1817\u001b[0m             \u001b[0;31m# performance reasons until we have a str dtype (GH 9343)\u001b[0m\u001b[0;34m\u001b[0m\u001b[0;34m\u001b[0m\u001b[0m\n\u001b[0;32m-> 1818\u001b[0;31m             raise AttributeError(\"Can only use .str accessor with string \"\n\u001b[0m\u001b[1;32m   1819\u001b[0m                                  \u001b[0;34m\"values, which use np.object_ dtype in \"\u001b[0m\u001b[0;34m\u001b[0m\u001b[0m\n\u001b[1;32m   1820\u001b[0m                                  \"pandas\")\n",
      "\u001b[0;31mAttributeError\u001b[0m: Can only use .str accessor with string values, which use np.object_ dtype in pandas"
     ]
    }
   ],
   "source": [
    "bb3 = filter_blast(bb, bb_para3)"
   ]
  },
  {
   "cell_type": "code",
   "execution_count": 18,
   "metadata": {
    "collapsed": false
   },
   "outputs": [
    {
     "name": "stdout",
     "output_type": "stream",
     "text": [
      "Ascomycota sp. AR-2010 isolate ATT243 18S ribosomal RNA gene, partial sequence; internal transcribed spacer 1, 5.8S ribosomal RNA gene, and internal transcribed spacer 2, complete sequence; and 28S ribosomal RNA gene, partial sequence\n",
      "<type 'str'>\n"
     ]
    }
   ],
   "source": [
    "qend1 = bb.ix[1,'stitle']\n",
    "print(qend1)\n",
    "print(type(qend1))"
   ]
  },
  {
   "cell_type": "code",
   "execution_count": 20,
   "metadata": {
    "collapsed": false
   },
   "outputs": [
    {
     "name": "stdout",
     "output_type": "stream",
     "text": [
      "gi|312434386|gb|HQ607908.1|\n",
      "<type 'str'>\n"
     ]
    }
   ],
   "source": [
    "sseqid1 = bb.ix[1,'sseqid']\n",
    "print(sseqid1)\n",
    "print(type(sseqid1))"
   ]
  },
  {
   "cell_type": "code",
   "execution_count": 21,
   "metadata": {
    "collapsed": true
   },
   "outputs": [],
   "source": [
    "bb_titles = bb['stitle'].tolist()"
   ]
  },
  {
   "cell_type": "code",
   "execution_count": 22,
   "metadata": {
    "collapsed": false
   },
   "outputs": [
    {
     "data": {
      "text/plain": [
       "'Acremonium sp. 904C internal transcribed spacer 1, partial sequence; 5.8S ribosomal RNA gene and internal transcribed spacer 2, complete sequence; and 28S ribosomal RNA gene, partial sequence'"
      ]
     },
     "execution_count": 22,
     "metadata": {},
     "output_type": "execute_result"
    }
   ],
   "source": [
    "bb_titles[0]"
   ]
  },
  {
   "cell_type": "code",
   "execution_count": 23,
   "metadata": {
    "collapsed": false
   },
   "outputs": [
    {
     "data": {
      "text/plain": [
       "str"
      ]
     },
     "execution_count": 23,
     "metadata": {},
     "output_type": "execute_result"
    }
   ],
   "source": [
    "type(bb_titles[0])"
   ]
  },
  {
   "cell_type": "code",
   "execution_count": 26,
   "metadata": {
    "collapsed": false
   },
   "outputs": [],
   "source": [
    "for x in bb_titles:\n",
    "    tipo = type(x)\n",
    "    if tipo != str:\n",
    "        print x"
   ]
  },
  {
   "cell_type": "code",
   "execution_count": 28,
   "metadata": {
    "collapsed": false
   },
   "outputs": [
    {
     "ename": "AttributeError",
     "evalue": "'str' object has no attribute 'dtype'",
     "output_type": "error",
     "traceback": [
      "\u001b[0;31m---------------------------------------------------------------------------\u001b[0m",
      "\u001b[0;31mAttributeError\u001b[0m                            Traceback (most recent call last)",
      "\u001b[0;32m<ipython-input-28-83f40373e8e7>\u001b[0m in \u001b[0;36m<module>\u001b[0;34m()\u001b[0m\n\u001b[0;32m----> 1\u001b[0;31m \u001b[0msseqid1\u001b[0m\u001b[0;34m.\u001b[0m\u001b[0mdtype\u001b[0m\u001b[0;34m\u001b[0m\u001b[0m\n\u001b[0m",
      "\u001b[0;31mAttributeError\u001b[0m: 'str' object has no attribute 'dtype'"
     ]
    }
   ],
   "source": [
    "bb[]"
   ]
  },
  {
   "cell_type": "markdown",
   "metadata": {},
   "source": [
    "**checking the dtype of all pandas columns**\n",
    "\n",
    "http://stackoverflow.com/questions/41262370/determining-pandas-column-datatype"
   ]
  },
  {
   "cell_type": "code",
   "execution_count": 15,
   "metadata": {
    "collapsed": false
   },
   "outputs": [],
   "source": [
    "dtypeCount =[bb.iloc[:,i].apply(type).value_counts() for i in range(bb.shape[1])]"
   ]
  },
  {
   "cell_type": "code",
   "execution_count": 16,
   "metadata": {
    "collapsed": false
   },
   "outputs": [
    {
     "data": {
      "text/plain": [
       "[<type 'str'>    77624\n",
       " Name: qseqid, dtype: int64, <type 'str'>    77624\n",
       " Name: sseqid, dtype: int64, <type 'str'>    77624\n",
       " Name: stitle, dtype: int64, <type 'float'>    77624\n",
       " Name: evalue, dtype: int64, <type 'float'>    77624\n",
       " Name: bitscore, dtype: int64, <type 'int'>    77624\n",
       " Name: qcovs, dtype: int64, <type 'int'>    77624\n",
       " Name: length, dtype: int64, <type 'float'>    77624\n",
       " Name: pident, dtype: int64, <type 'int'>    77624\n",
       " Name: nident, dtype: int64, <type 'int'>    77624\n",
       " Name: qstart, dtype: int64, <type 'int'>    77624\n",
       " Name: qend, dtype: int64, <type 'int'>    77624\n",
       " Name: sstart, dtype: int64, <type 'int'>    77624\n",
       " Name: send, dtype: int64, <type 'str'>    77624\n",
       " Name: qseq, dtype: int64, <type 'str'>    77624\n",
       " Name: sseq, dtype: int64]"
      ]
     },
     "execution_count": 16,
     "metadata": {},
     "output_type": "execute_result"
    }
   ],
   "source": [
    "dtypeCount"
   ]
  },
  {
   "cell_type": "code",
   "execution_count": 43,
   "metadata": {
    "collapsed": false
   },
   "outputs": [],
   "source": [
    "# so have to convert stitle (and others if necessary) to str\n",
    "bb['stitle'] = bb['stitle'].astype(str)"
   ]
  },
  {
   "cell_type": "code",
   "execution_count": 47,
   "metadata": {
    "collapsed": true
   },
   "outputs": [],
   "source": [
    "# now run again\n",
    "dtypeCount =[bb.iloc[:,i].apply(type).value_counts() for i in range(bb.shape[1])]"
   ]
  },
  {
   "cell_type": "code",
   "execution_count": 48,
   "metadata": {
    "collapsed": false
   },
   "outputs": [
    {
     "data": {
      "text/plain": [
       "[<type 'str'>    77624\n",
       " Name: qseqid, dtype: int64, <type 'str'>    77624\n",
       " Name: sseqid, dtype: int64, <type 'str'>    77624\n",
       " Name: stitle, dtype: int64, <type 'float'>    77624\n",
       " Name: evalue, dtype: int64, <type 'float'>    77624\n",
       " Name: bitscore, dtype: int64, <type 'int'>    77624\n",
       " Name: qcovs, dtype: int64, <type 'int'>    77624\n",
       " Name: length, dtype: int64, <type 'float'>    77624\n",
       " Name: pident, dtype: int64, <type 'int'>    77624\n",
       " Name: nident, dtype: int64, <type 'int'>    77624\n",
       " Name: qstart, dtype: int64, <type 'int'>    77624\n",
       " Name: qend, dtype: int64, <type 'int'>    77624\n",
       " Name: sstart, dtype: int64, <type 'int'>    77624\n",
       " Name: send, dtype: int64, <type 'str'>    77624\n",
       " Name: qseq, dtype: int64, <type 'str'>    77624\n",
       " Name: sseq, dtype: int64]"
      ]
     },
     "execution_count": 48,
     "metadata": {},
     "output_type": "execute_result"
    }
   ],
   "source": [
    "dtypeCount"
   ]
  },
  {
   "cell_type": "code",
   "execution_count": 47,
   "metadata": {
    "collapsed": false
   },
   "outputs": [],
   "source": [
    "# try to reload file and convert in import\n",
    "BB = pd.read_csv('/Users/hcross/analysis/camel2016/its_refs/its_decomtamination/blout_itsUNK_to_nt.txt', sep='\\t', names=bb_paras, dtype={'stitle' : np.str })"
   ]
  },
  {
   "cell_type": "code",
   "execution_count": 48,
   "metadata": {
    "collapsed": false
   },
   "outputs": [],
   "source": [
    "bb_para1 = {'MIN_PCT_ID': 90, 'IN_TITLE': 'Uncultured', 'FORMAT': 'custom'}"
   ]
  },
  {
   "cell_type": "code",
   "execution_count": 49,
   "metadata": {
    "collapsed": false
   },
   "outputs": [
    {
     "ename": "AttributeError",
     "evalue": "Can only use .str accessor with string values, which use np.object_ dtype in pandas",
     "output_type": "error",
     "traceback": [
      "\u001b[0;31m---------------------------------------------------------------------------\u001b[0m",
      "\u001b[0;31mAttributeError\u001b[0m                            Traceback (most recent call last)",
      "\u001b[0;32m<ipython-input-49-9a9fcb47e8ca>\u001b[0m in \u001b[0;36m<module>\u001b[0;34m()\u001b[0m\n\u001b[0;32m----> 1\u001b[0;31m \u001b[0mBB1\u001b[0m \u001b[0;34m=\u001b[0m \u001b[0mfilter_blast\u001b[0m\u001b[0;34m(\u001b[0m\u001b[0mBB\u001b[0m\u001b[0;34m,\u001b[0m \u001b[0mbb_para1\u001b[0m\u001b[0;34m)\u001b[0m\u001b[0;34m\u001b[0m\u001b[0m\n\u001b[0m",
      "\u001b[0;32m<ipython-input-9-963d533353e7>\u001b[0m in \u001b[0;36mfilter_blast\u001b[0;34m(blastDF, blast_parameters)\u001b[0m\n\u001b[1;32m     43\u001b[0m         \u001b[0msemifinal\u001b[0m \u001b[0;34m=\u001b[0m \u001b[0minitial\u001b[0m\u001b[0;34m[\u001b[0m\u001b[0;34m:\u001b[0m\u001b[0;34m-\u001b[0m\u001b[0;36m1\u001b[0m\u001b[0;34m]\u001b[0m\u001b[0;34m\u001b[0m\u001b[0m\n\u001b[1;32m     44\u001b[0m         \u001b[0mfinal\u001b[0m \u001b[0;34m=\u001b[0m \u001b[0msemifinal\u001b[0m\u001b[0;34m+\u001b[0m\u001b[0;34m\"]\"\u001b[0m\u001b[0;34m\u001b[0m\u001b[0m\n\u001b[0;32m---> 45\u001b[0;31m         \u001b[0;32mexec\u001b[0m\u001b[0;34m(\u001b[0m\u001b[0mfinal\u001b[0m\u001b[0;34m)\u001b[0m\u001b[0;34m\u001b[0m\u001b[0m\n\u001b[0m\u001b[1;32m     46\u001b[0m     \u001b[0;32mreturn\u001b[0m \u001b[0mfilt_blastDF\u001b[0m\u001b[0;34m\u001b[0m\u001b[0m\n\u001b[1;32m     47\u001b[0m \u001b[0;34m\u001b[0m\u001b[0m\n",
      "\u001b[0;32m<string>\u001b[0m in \u001b[0;36m<module>\u001b[0;34m()\u001b[0m\n",
      "\u001b[0;32m/Users/hcross/anaconda/envs/pan/lib/python2.7/site-packages/pandas/core/generic.pyc\u001b[0m in \u001b[0;36m__getattr__\u001b[0;34m(self, name)\u001b[0m\n\u001b[1;32m   2666\u001b[0m         if (name in self._internal_names_set or name in self._metadata or\n\u001b[1;32m   2667\u001b[0m                 name in self._accessors):\n\u001b[0;32m-> 2668\u001b[0;31m             \u001b[0;32mreturn\u001b[0m \u001b[0mobject\u001b[0m\u001b[0;34m.\u001b[0m\u001b[0m__getattribute__\u001b[0m\u001b[0;34m(\u001b[0m\u001b[0mself\u001b[0m\u001b[0;34m,\u001b[0m \u001b[0mname\u001b[0m\u001b[0;34m)\u001b[0m\u001b[0;34m\u001b[0m\u001b[0m\n\u001b[0m\u001b[1;32m   2669\u001b[0m         \u001b[0;32melse\u001b[0m\u001b[0;34m:\u001b[0m\u001b[0;34m\u001b[0m\u001b[0m\n\u001b[1;32m   2670\u001b[0m             \u001b[0;32mif\u001b[0m \u001b[0mname\u001b[0m \u001b[0;32min\u001b[0m \u001b[0mself\u001b[0m\u001b[0;34m.\u001b[0m\u001b[0m_info_axis\u001b[0m\u001b[0;34m:\u001b[0m\u001b[0;34m\u001b[0m\u001b[0m\n",
      "\u001b[0;32m/Users/hcross/anaconda/envs/pan/lib/python2.7/site-packages/pandas/core/base.pyc\u001b[0m in \u001b[0;36m__get__\u001b[0;34m(self, instance, owner)\u001b[0m\n\u001b[1;32m    235\u001b[0m             \u001b[0;31m# this ensures that Series.str.<method> is well defined\u001b[0m\u001b[0;34m\u001b[0m\u001b[0;34m\u001b[0m\u001b[0m\n\u001b[1;32m    236\u001b[0m             \u001b[0;32mreturn\u001b[0m \u001b[0mself\u001b[0m\u001b[0;34m.\u001b[0m\u001b[0maccessor_cls\u001b[0m\u001b[0;34m\u001b[0m\u001b[0m\n\u001b[0;32m--> 237\u001b[0;31m         \u001b[0;32mreturn\u001b[0m \u001b[0mself\u001b[0m\u001b[0;34m.\u001b[0m\u001b[0mconstruct_accessor\u001b[0m\u001b[0;34m(\u001b[0m\u001b[0minstance\u001b[0m\u001b[0;34m)\u001b[0m\u001b[0;34m\u001b[0m\u001b[0m\n\u001b[0m\u001b[1;32m    238\u001b[0m \u001b[0;34m\u001b[0m\u001b[0m\n\u001b[1;32m    239\u001b[0m     \u001b[0;32mdef\u001b[0m \u001b[0m__set__\u001b[0m\u001b[0;34m(\u001b[0m\u001b[0mself\u001b[0m\u001b[0;34m,\u001b[0m \u001b[0minstance\u001b[0m\u001b[0;34m,\u001b[0m \u001b[0mvalue\u001b[0m\u001b[0;34m)\u001b[0m\u001b[0;34m:\u001b[0m\u001b[0;34m\u001b[0m\u001b[0m\n",
      "\u001b[0;32m/Users/hcross/anaconda/envs/pan/lib/python2.7/site-packages/pandas/core/strings.pyc\u001b[0m in \u001b[0;36m_make_str_accessor\u001b[0;34m(self)\u001b[0m\n\u001b[1;32m   1816\u001b[0m             \u001b[0;31m# (instead of test for object dtype), but that isn't practical for\u001b[0m\u001b[0;34m\u001b[0m\u001b[0;34m\u001b[0m\u001b[0m\n\u001b[1;32m   1817\u001b[0m             \u001b[0;31m# performance reasons until we have a str dtype (GH 9343)\u001b[0m\u001b[0;34m\u001b[0m\u001b[0;34m\u001b[0m\u001b[0m\n\u001b[0;32m-> 1818\u001b[0;31m             raise AttributeError(\"Can only use .str accessor with string \"\n\u001b[0m\u001b[1;32m   1819\u001b[0m                                  \u001b[0;34m\"values, which use np.object_ dtype in \"\u001b[0m\u001b[0;34m\u001b[0m\u001b[0m\n\u001b[1;32m   1820\u001b[0m                                  \"pandas\")\n",
      "\u001b[0;31mAttributeError\u001b[0m: Can only use .str accessor with string values, which use np.object_ dtype in pandas"
     ]
    }
   ],
   "source": [
    "BB1 = filter_blast(BB, bb_para1)"
   ]
  },
  {
   "cell_type": "code",
   "execution_count": 50,
   "metadata": {
    "collapsed": false
   },
   "outputs": [
    {
     "data": {
      "text/html": [
       "<div>\n",
       "<table border=\"1\" class=\"dataframe\">\n",
       "  <thead>\n",
       "    <tr style=\"text-align: right;\">\n",
       "      <th></th>\n",
       "      <th>qseqid</th>\n",
       "      <th>sseqid</th>\n",
       "      <th>stitle</th>\n",
       "      <th>evalue</th>\n",
       "      <th>bitscore</th>\n",
       "      <th>qcovs</th>\n",
       "      <th>length</th>\n",
       "      <th>pident</th>\n",
       "      <th>nident</th>\n",
       "      <th>qstart</th>\n",
       "      <th>qend</th>\n",
       "      <th>sstart</th>\n",
       "      <th>send</th>\n",
       "      <th>qseq</th>\n",
       "      <th>sseq</th>\n",
       "    </tr>\n",
       "  </thead>\n",
       "  <tbody>\n",
       "    <tr>\n",
       "      <th>0</th>\n",
       "      <td>cam03.cf15_322</td>\n",
       "      <td>gi|564614030|gb|KF669512.1|</td>\n",
       "      <td>Acremonium sp. 904C internal transcribed space...</td>\n",
       "      <td>5.580000e-30</td>\n",
       "      <td>139.0</td>\n",
       "      <td>100</td>\n",
       "      <td>78</td>\n",
       "      <td>98.718</td>\n",
       "      <td>77</td>\n",
       "      <td>1</td>\n",
       "      <td>78</td>\n",
       "      <td>473</td>\n",
       "      <td>550</td>\n",
       "      <td>GCGGTGCGGCCAAGCCGTAAAACACCCCACTTCTTCAAGGTTGACC...</td>\n",
       "      <td>GCGGTGCGGCCACGCCGTAAAACACCCCACTTCTTCAAGGTTGACC...</td>\n",
       "    </tr>\n",
       "    <tr>\n",
       "      <th>1</th>\n",
       "      <td>cam03.cf15_322</td>\n",
       "      <td>gi|312434386|gb|HQ607908.1|</td>\n",
       "      <td>Ascomycota sp. AR-2010 isolate ATT243 18S ribo...</td>\n",
       "      <td>9.340000e-28</td>\n",
       "      <td>132.0</td>\n",
       "      <td>100</td>\n",
       "      <td>78</td>\n",
       "      <td>97.436</td>\n",
       "      <td>76</td>\n",
       "      <td>1</td>\n",
       "      <td>78</td>\n",
       "      <td>505</td>\n",
       "      <td>581</td>\n",
       "      <td>GCGGTGCGGCCAAGCCGTAAAACACCCCACTTCTTCAAGGTTGACC...</td>\n",
       "      <td>GCGGTGCGGCCACGCCGTAAAACACCCCACTTC-TCAAGGTTGACC...</td>\n",
       "    </tr>\n",
       "    <tr>\n",
       "      <th>2</th>\n",
       "      <td>cam03.cf15_322</td>\n",
       "      <td>gi|256855623|emb|FN397253.1|</td>\n",
       "      <td>Uncultured fungus genomic DNA sequence contain...</td>\n",
       "      <td>9.340000e-28</td>\n",
       "      <td>132.0</td>\n",
       "      <td>100</td>\n",
       "      <td>78</td>\n",
       "      <td>97.436</td>\n",
       "      <td>76</td>\n",
       "      <td>1</td>\n",
       "      <td>78</td>\n",
       "      <td>518</td>\n",
       "      <td>594</td>\n",
       "      <td>GCGGTGCGGCCAAGCCGTAAAACACCCCACTTCTTCAAGGTTGACC...</td>\n",
       "      <td>GCGGTGCGGCCACGCCGTAAAACACCCCACTTC-TCAAGGTTGACC...</td>\n",
       "    </tr>\n",
       "    <tr>\n",
       "      <th>3</th>\n",
       "      <td>cam03.cf15_322</td>\n",
       "      <td>gi|1030027947|gb|KU931422.1|</td>\n",
       "      <td>Uncultured fungus clone WJ139 18S ribosomal RN...</td>\n",
       "      <td>3.360000e-27</td>\n",
       "      <td>130.0</td>\n",
       "      <td>100</td>\n",
       "      <td>80</td>\n",
       "      <td>96.250</td>\n",
       "      <td>77</td>\n",
       "      <td>1</td>\n",
       "      <td>78</td>\n",
       "      <td>535</td>\n",
       "      <td>614</td>\n",
       "      <td>GCGGTGCGGCCAAGCCGTAAAACACCCCACTTCTTC--AAGGTTGA...</td>\n",
       "      <td>GCGGTGCGGCCACGCCGTAAAACACCCCACTTCTTCCAAAGGTTGA...</td>\n",
       "    </tr>\n",
       "    <tr>\n",
       "      <th>4</th>\n",
       "      <td>cam03.cf15_322</td>\n",
       "      <td>gi|1005260240|emb|HG937108.1|</td>\n",
       "      <td>Uncultured Acremonium genomic DNA containing 1...</td>\n",
       "      <td>3.360000e-27</td>\n",
       "      <td>130.0</td>\n",
       "      <td>94</td>\n",
       "      <td>73</td>\n",
       "      <td>98.630</td>\n",
       "      <td>72</td>\n",
       "      <td>6</td>\n",
       "      <td>78</td>\n",
       "      <td>520</td>\n",
       "      <td>592</td>\n",
       "      <td>GCGGCCAAGCCGTAAAACACCCCACTTCTTCAAGGTTGACCTCGGA...</td>\n",
       "      <td>GCGGCCACGCCGTAAAACACCCCACTTCTTCAAGGTTGACCTCGGA...</td>\n",
       "    </tr>\n",
       "  </tbody>\n",
       "</table>\n",
       "</div>"
      ],
      "text/plain": [
       "           qseqid                         sseqid  \\\n",
       "0  cam03.cf15_322    gi|564614030|gb|KF669512.1|   \n",
       "1  cam03.cf15_322    gi|312434386|gb|HQ607908.1|   \n",
       "2  cam03.cf15_322   gi|256855623|emb|FN397253.1|   \n",
       "3  cam03.cf15_322   gi|1030027947|gb|KU931422.1|   \n",
       "4  cam03.cf15_322  gi|1005260240|emb|HG937108.1|   \n",
       "\n",
       "                                              stitle        evalue  bitscore  \\\n",
       "0  Acremonium sp. 904C internal transcribed space...  5.580000e-30     139.0   \n",
       "1  Ascomycota sp. AR-2010 isolate ATT243 18S ribo...  9.340000e-28     132.0   \n",
       "2  Uncultured fungus genomic DNA sequence contain...  9.340000e-28     132.0   \n",
       "3  Uncultured fungus clone WJ139 18S ribosomal RN...  3.360000e-27     130.0   \n",
       "4  Uncultured Acremonium genomic DNA containing 1...  3.360000e-27     130.0   \n",
       "\n",
       "   qcovs  length  pident  nident  qstart  qend  sstart  send  \\\n",
       "0    100      78  98.718      77       1    78     473   550   \n",
       "1    100      78  97.436      76       1    78     505   581   \n",
       "2    100      78  97.436      76       1    78     518   594   \n",
       "3    100      80  96.250      77       1    78     535   614   \n",
       "4     94      73  98.630      72       6    78     520   592   \n",
       "\n",
       "                                                qseq  \\\n",
       "0  GCGGTGCGGCCAAGCCGTAAAACACCCCACTTCTTCAAGGTTGACC...   \n",
       "1  GCGGTGCGGCCAAGCCGTAAAACACCCCACTTCTTCAAGGTTGACC...   \n",
       "2  GCGGTGCGGCCAAGCCGTAAAACACCCCACTTCTTCAAGGTTGACC...   \n",
       "3  GCGGTGCGGCCAAGCCGTAAAACACCCCACTTCTTC--AAGGTTGA...   \n",
       "4  GCGGCCAAGCCGTAAAACACCCCACTTCTTCAAGGTTGACCTCGGA...   \n",
       "\n",
       "                                                sseq  \n",
       "0  GCGGTGCGGCCACGCCGTAAAACACCCCACTTCTTCAAGGTTGACC...  \n",
       "1  GCGGTGCGGCCACGCCGTAAAACACCCCACTTC-TCAAGGTTGACC...  \n",
       "2  GCGGTGCGGCCACGCCGTAAAACACCCCACTTC-TCAAGGTTGACC...  \n",
       "3  GCGGTGCGGCCACGCCGTAAAACACCCCACTTCTTCCAAAGGTTGA...  \n",
       "4  GCGGCCACGCCGTAAAACACCCCACTTCTTCAAGGTTGACCTCGGA...  "
      ]
     },
     "execution_count": 50,
     "metadata": {},
     "output_type": "execute_result"
    }
   ],
   "source": [
    "BB.head()"
   ]
  },
  {
   "cell_type": "code",
   "execution_count": 51,
   "metadata": {
    "collapsed": false
   },
   "outputs": [],
   "source": [
    "dtypeCount =[BB.iloc[:,i].apply(type).value_counts() for i in range(BB.shape[1])]"
   ]
  },
  {
   "cell_type": "code",
   "execution_count": 52,
   "metadata": {
    "collapsed": false
   },
   "outputs": [
    {
     "data": {
      "text/plain": [
       "[<type 'str'>    77624\n",
       " Name: qseqid, dtype: int64, <type 'str'>    77624\n",
       " Name: sseqid, dtype: int64, <type 'str'>    77624\n",
       " Name: stitle, dtype: int64, <type 'float'>    77624\n",
       " Name: evalue, dtype: int64, <type 'float'>    77624\n",
       " Name: bitscore, dtype: int64, <type 'int'>    77624\n",
       " Name: qcovs, dtype: int64, <type 'int'>    77624\n",
       " Name: length, dtype: int64, <type 'float'>    77624\n",
       " Name: pident, dtype: int64, <type 'int'>    77624\n",
       " Name: nident, dtype: int64, <type 'int'>    77624\n",
       " Name: qstart, dtype: int64, <type 'int'>    77624\n",
       " Name: qend, dtype: int64, <type 'int'>    77624\n",
       " Name: sstart, dtype: int64, <type 'int'>    77624\n",
       " Name: send, dtype: int64, <type 'str'>    77624\n",
       " Name: qseq, dtype: int64, <type 'str'>    77624\n",
       " Name: sseq, dtype: int64]"
      ]
     },
     "execution_count": 52,
     "metadata": {},
     "output_type": "execute_result"
    }
   ],
   "source": [
    "dtypeCount"
   ]
  },
  {
   "cell_type": "code",
   "execution_count": 26,
   "metadata": {
    "collapsed": false
   },
   "outputs": [
    {
     "data": {
      "text/plain": [
       "0        Acremonium sp. 904C internal transcribed space...\n",
       "1        Ascomycota sp. AR-2010 isolate ATT243 18S ribo...\n",
       "2        Uncultured fungus genomic DNA sequence contain...\n",
       "3        Uncultured fungus clone WJ139 18S ribosomal RN...\n",
       "4        Uncultured Acremonium genomic DNA containing 1...\n",
       "5        Uncultured fungus clone S9 18S ribosomal RNA g...\n",
       "6        Uncultured Hapsidospora clone NG_M_G05 interna...\n",
       "7        Uncultured Hapsidospora clone NG_M_A04 interna...\n",
       "8        Acremonium chrysogenum rDNA internal transcrib...\n",
       "9        Hypocreales sp. B1A0907P30CC473 internal trans...\n",
       "10       Uncultured fungus clone G2_DB7 18S ribosomal R...\n",
       "11       Uncultured fungus clone Puerto_Rico_OTULB_4308...\n",
       "12       Acremonium chrysogenum strain GHL0901-3 intern...\n",
       "13       Hypocreales sp. CY133 18S ribosomal RNA gene, ...\n",
       "14       Uncultured fungus clone RFLP type 38 18S ribos...\n",
       "15       Hypocreales sp. GMG_C1 18S ribosomal RNA gene,...\n",
       "16       Sarcopodium circinosetiferum isolate PSN02 int...\n",
       "17       Sarcopodium circinatum strain CBS 587.92 18S r...\n",
       "18       Sarcopodium circinatum strain CBS 100998 18S r...\n",
       "19       Uncultured fungus clone D10n-1 internal transc...\n",
       "20       Acremonium sp. 904C internal transcribed space...\n",
       "21       Ascomycota sp. AR-2010 isolate ATT243 18S ribo...\n",
       "22       Uncultured fungus genomic DNA sequence contain...\n",
       "23       Uncultured fungus clone WJ139 18S ribosomal RN...\n",
       "24       Uncultured Acremonium genomic DNA containing 1...\n",
       "25       Uncultured fungus clone S9 18S ribosomal RNA g...\n",
       "26       Uncultured Hapsidospora clone NG_M_G05 interna...\n",
       "27       Uncultured Hapsidospora clone NG_M_A04 interna...\n",
       "28       Acremonium chrysogenum rDNA internal transcrib...\n",
       "29       Hypocreales sp. B1A0907P30CC473 internal trans...\n",
       "                               ...                        \n",
       "77594    Anaeromyces sp. AF-CTS-BTA2 18S ribosomal RNA ...\n",
       "77595    Anaeromyces sp. AF-CTS-BTA1 18S ribosomal RNA ...\n",
       "77596    Anaeromyces sp. SSD-BRL2 18S ribosomal RNA gen...\n",
       "77597    Anaeromyces sp. SSD-BRL1 18S ribosomal RNA gen...\n",
       "77598    Anaeromyces sp. NRFI-20 18S ribosomal RNA gene...\n",
       "77599    Anaeromyces sp. NRFI-4 18S ribosomal RNA gene,...\n",
       "77600    Anaeromyces mucronatus FSU JF1 ITS region; fro...\n",
       "77601    Anaeromyces sp. NFRI-14 18S ribosomal RNA gene...\n",
       "77602    Anaeromyces sp. NRFI-9 18S ribosomal RNA gene,...\n",
       "77603    Anaeromyces sp. NRFI-6 18S ribosomal RNA gene,...\n",
       "77604    Fungal sp. SSD-CIB2 18S ribosomal RNA gene, pa...\n",
       "77605    Oontomyces anksri ABS SSD-CIB1 ITS region; fro...\n",
       "77606    Anaeromyces sp. NFRI-11 18S ribosomal RNA gene...\n",
       "77607    Anaeromyces sp. NFRI-15 18S ribosomal RNA gene...\n",
       "77608    Uncultured Neocallimastigales clone 8SC4ce06 1...\n",
       "77609    Anaeromyces sp. NRFI-20 18S ribosomal RNA gene...\n",
       "77610    Anaeromyces sp. NRFI-4 18S ribosomal RNA gene,...\n",
       "77611    Anaeromyces mucronatus FSU JF1 ITS region; fro...\n",
       "77612    Anaeromyces sp. NRFI-12 18S ribosomal RNA gene...\n",
       "77613    Anaeromyces sp. NRFI-8 18S ribosomal RNA gene,...\n",
       "77614    Uncultured Neocallimastigales clone 9SC4cb04 1...\n",
       "77615    Anaeromyces sp. BF1 18S ribosomal RNA gene, pa...\n",
       "77616    Uncultured Neocallimastigales clone 9SC4ca05 1...\n",
       "77617    Anaeromyces sp. NRFI-10 18S ribosomal RNA gene...\n",
       "77618    Uncultured Neocallimastigales clone 9SC4cc09 1...\n",
       "77619    Uncultured Neocallimastigales clone 8SC3cg11 1...\n",
       "77620    Uncultured Neocallimastigales clone 8SC3cc06 1...\n",
       "77621    Anaeromyces sp. K9 18S ribosomal RNA gene, par...\n",
       "77622    Uncultured Neocallimastigales clone 8SC3cb02 1...\n",
       "77623    Anaeromyces sp. AF-CTS-BBA2 18S ribosomal RNA ...\n",
       "Name: stitle, dtype: object"
      ]
     },
     "execution_count": 26,
     "metadata": {},
     "output_type": "execute_result"
    }
   ],
   "source": [
    "bb.stitle.apply(str)"
   ]
  },
  {
   "cell_type": "code",
   "execution_count": null,
   "metadata": {
    "collapsed": true
   },
   "outputs": [],
   "source": []
  }
 ],
 "metadata": {
  "anaconda-cloud": {},
  "kernelspec": {
   "display_name": "Python [default]",
   "language": "python",
   "name": "python2"
  },
  "language_info": {
   "codemirror_mode": {
    "name": "ipython",
    "version": 2
   },
   "file_extension": ".py",
   "mimetype": "text/x-python",
   "name": "python",
   "nbconvert_exporter": "python",
   "pygments_lexer": "ipython2",
   "version": "2.7.12"
  }
 },
 "nbformat": 4,
 "nbformat_minor": 1
}
